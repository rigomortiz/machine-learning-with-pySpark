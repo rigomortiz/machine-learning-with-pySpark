{
 "cells": [
  {
   "cell_type": "code",
   "execution_count": null,
   "id": "386c538e-9355-4a00-9eb6-e8428b527f32",
   "metadata": {
    "is_executing": true
   },
   "outputs": [],
   "source": [
    "import pyspark\n",
    "from pyspark.sql.functions import *\n",
    "from pyspark.sql.types import *\n",
    "from pyspark.sql import SparkSession\n",
    "from pyspark.ml.linalg import *\n",
    "from pyspark.ml.feature import *\n",
    "from pyspark.ml.regression import *\n",
    "from pyspark.ml.evaluation import *\n",
    "from pyspark.ml import *\n",
    "\n",
    "import matplotlib.dates as mdates\n",
    "import matplotlib.pyplot as plt\n",
    "import statistics as stat\n",
    "import pandas as pd"
   ]
  },
  {
   "cell_type": "code",
   "execution_count": null,
   "id": "447cbff9-752f-47d2-be83-8cfbb7cbe6a1",
   "metadata": {
    "is_executing": true
   },
   "outputs": [],
   "source": [
    "spark = SparkSession.builder.appName(\"appSpark\").getOrCreate()"
   ]
  },
  {
   "cell_type": "code",
   "execution_count": 4,
   "id": "24af2118-b03c-48a5-9ded-08157beed81a",
   "metadata": {},
   "outputs": [
    {
     "name": "stderr",
     "output_type": "stream",
     "text": [
      "                                                                                \r"
     ]
    }
   ],
   "source": [
    "df = spark.read.option('header', True).option(\"inferSchema\", True).csv(\"./csv/Linear_regression_dataset.csv\")"
   ]
  },
  {
   "cell_type": "code",
   "execution_count": 10,
   "id": "001881fe-2436-49f8-930c-6a9d94f6926c",
   "metadata": {},
   "outputs": [
    {
     "name": "stdout",
     "output_type": "stream",
     "text": [
      "+-----+-----+-----+-----+-----+------+\n",
      "|var_1|var_2|var_3|var_4|var_5|output|\n",
      "+-----+-----+-----+-----+-----+------+\n",
      "|734  |688  |81   |0.328|0.259|0.418 |\n",
      "|700  |600  |94   |0.32 |0.247|0.389 |\n",
      "|712  |705  |93   |0.311|0.247|0.417 |\n",
      "|734  |806  |69   |0.315|0.26 |0.415 |\n",
      "|613  |759  |61   |0.302|0.24 |0.378 |\n",
      "|748  |676  |85   |0.318|0.255|0.422 |\n",
      "|669  |588  |97   |0.315|0.251|0.411 |\n",
      "|667  |845  |68   |0.324|0.251|0.381 |\n",
      "|758  |890  |64   |0.33 |0.274|0.436 |\n",
      "|726  |670  |88   |0.335|0.268|0.422 |\n",
      "+-----+-----+-----+-----+-----+------+\n"
     ]
    }
   ],
   "source": [
    "df.show(10, False)"
   ]
  },
  {
   "cell_type": "code",
   "execution_count": 11,
   "id": "5afd9d5d-bc6f-477e-a340-90aa33c4cb7e",
   "metadata": {},
   "outputs": [
    {
     "name": "stdout",
     "output_type": "stream",
     "text": [
      "root\n",
      " |-- var_1: integer (nullable = true)\n",
      " |-- var_2: integer (nullable = true)\n",
      " |-- var_3: integer (nullable = true)\n",
      " |-- var_4: double (nullable = true)\n",
      " |-- var_5: double (nullable = true)\n",
      " |-- output: double (nullable = true)\n"
     ]
    }
   ],
   "source": [
    "df.printSchema()"
   ]
  },
  {
   "cell_type": "code",
   "execution_count": 12,
   "id": "ae93a746-0c06-405b-a7a0-4848fc416264",
   "metadata": {},
   "outputs": [
    {
     "name": "stderr",
     "output_type": "stream",
     "text": [
      "23/07/13 00:47:36 WARN package: Truncated the string representation of a plan since it was too large. This behavior can be adjusted by setting 'spark.sql.debug.maxToStringFields'.\n",
      "[Stage 7:>                                                          (0 + 1) / 1]\r"
     ]
    },
    {
     "name": "stdout",
     "output_type": "stream",
     "text": [
      "+-------+-----------------+-----------------+------------------+--------------------+--------------------+-------------------+\n",
      "|summary|            var_1|            var_2|             var_3|               var_4|               var_5|             output|\n",
      "+-------+-----------------+-----------------+------------------+--------------------+--------------------+-------------------+\n",
      "|  count|             1232|             1232|              1232|                1232|                1232|               1232|\n",
      "|   mean|715.0819805194806|715.0819805194806| 80.90422077922078|  0.3263311688311693| 0.25927272727272715|0.39734172077922014|\n",
      "| stddev| 91.5342940441652|93.07993263118064|11.458139049993724|0.015012772334166148|0.012907228928000298|0.03326689862173776|\n",
      "|    min|              463|              472|                40|               0.277|               0.214|              0.301|\n",
      "|    max|             1009|             1103|               116|               0.373|               0.294|              0.491|\n",
      "+-------+-----------------+-----------------+------------------+--------------------+--------------------+-------------------+\n"
     ]
    },
    {
     "name": "stderr",
     "output_type": "stream",
     "text": [
      "                                                                                \r"
     ]
    }
   ],
   "source": [
    "df.describe().show()"
   ]
  },
  {
   "cell_type": "markdown",
   "id": "b11448da-ca8d-453d-a33b-cee22a864531",
   "metadata": {},
   "source": [
    "## Linear regression"
   ]
  },
  {
   "cell_type": "code",
   "execution_count": 19,
   "id": "ef08bb27-b588-47aa-bbbe-fe49313d9b3f",
   "metadata": {},
   "outputs": [],
   "source": [
    "df = df.withColumnRenamed(\"laberl\", \"label\")"
   ]
  },
  {
   "cell_type": "code",
   "execution_count": 20,
   "id": "15a96c66-9f30-42a9-b314-37b729887127",
   "metadata": {},
   "outputs": [
    {
     "name": "stdout",
     "output_type": "stream",
     "text": [
      "+-----+-----+-----+-----+-----+-----+\n",
      "|var_1|var_2|var_3|var_4|var_5|label|\n",
      "+-----+-----+-----+-----+-----+-----+\n",
      "|  734|  688|   81|0.328|0.259|0.418|\n",
      "|  700|  600|   94| 0.32|0.247|0.389|\n",
      "|  712|  705|   93|0.311|0.247|0.417|\n",
      "|  734|  806|   69|0.315| 0.26|0.415|\n",
      "|  613|  759|   61|0.302| 0.24|0.378|\n",
      "|  748|  676|   85|0.318|0.255|0.422|\n",
      "|  669|  588|   97|0.315|0.251|0.411|\n",
      "|  667|  845|   68|0.324|0.251|0.381|\n",
      "|  758|  890|   64| 0.33|0.274|0.436|\n",
      "|  726|  670|   88|0.335|0.268|0.422|\n",
      "|  583|  794|   55|0.302|0.236|0.371|\n",
      "|  676|  746|   72|0.317|0.265|  0.4|\n",
      "|  767|  699|   89|0.332|0.274|0.433|\n",
      "|  637|  597|   86|0.317|0.252|0.374|\n",
      "|  609|  724|   69|0.308|0.244|0.382|\n",
      "|  776|  733|   83|0.325|0.259|0.437|\n",
      "|  701|  832|   66|0.325| 0.26| 0.39|\n",
      "|  650|  709|   74|0.316|0.249|0.386|\n",
      "|  804|  668|   95|0.337|0.265|0.453|\n",
      "|  713|  614|   94| 0.31|0.238|0.404|\n",
      "+-----+-----+-----+-----+-----+-----+\n"
     ]
    }
   ],
   "source": [
    "df.show()"
   ]
  },
  {
   "cell_type": "code",
   "execution_count": 21,
   "id": "5eaf4957-1cd3-4c92-9044-4bcb5521acfa",
   "metadata": {},
   "outputs": [
    {
     "data": {
      "text/plain": [
       "1232"
      ]
     },
     "execution_count": 21,
     "metadata": {},
     "output_type": "execute_result"
    }
   ],
   "source": [
    "df.count()"
   ]
  },
  {
   "cell_type": "code",
   "execution_count": 22,
   "id": "aa0a49e7-1f14-401e-a099-6994f9b0e152",
   "metadata": {},
   "outputs": [
    {
     "name": "stdout",
     "output_type": "stream",
     "text": [
      "+------------------+\n",
      "|corr(var_1, label)|\n",
      "+------------------+\n",
      "|0.9187399607627283|\n",
      "+------------------+\n"
     ]
    }
   ],
   "source": [
    "df.select(corr(\"var_1\", \"label\")).show()"
   ]
  },
  {
   "cell_type": "code",
   "execution_count": null,
   "id": "660d5a44-b6cf-4b03-8c81-de921de6934c",
   "metadata": {},
   "outputs": [],
   "source": []
  },
  {
   "cell_type": "code",
   "execution_count": 24,
   "id": "1cfaa9cf-5b35-4c5c-a9af-273147ba591d",
   "metadata": {},
   "outputs": [],
   "source": [
    "cols = ['var_1', 'var_2', 'var_3', 'var_4', 'var_5']"
   ]
  },
  {
   "cell_type": "code",
   "execution_count": 30,
   "id": "a59984f6-2c93-4878-ab27-1db8778a32f5",
   "metadata": {},
   "outputs": [],
   "source": [
    "vector = VectorAssembler(inputCols=cols, outputCol= 'features')"
   ]
  },
  {
   "cell_type": "code",
   "execution_count": 31,
   "id": "80eb1661-71e8-4691-af3c-37342fbe41c8",
   "metadata": {},
   "outputs": [
    {
     "name": "stdout",
     "output_type": "stream",
     "text": [
      "root\n",
      " |-- var_1: integer (nullable = true)\n",
      " |-- var_2: integer (nullable = true)\n",
      " |-- var_3: integer (nullable = true)\n",
      " |-- var_4: double (nullable = true)\n",
      " |-- var_5: double (nullable = true)\n",
      " |-- label: double (nullable = true)\n",
      " |-- features: vector (nullable = true)\n"
     ]
    }
   ],
   "source": [
    "features_df = vector.transform(df)\n",
    "features_df.printSchema()"
   ]
  },
  {
   "cell_type": "code",
   "execution_count": 32,
   "id": "a1763004-88bd-45bb-9496-e5f778baf3aa",
   "metadata": {},
   "outputs": [
    {
     "name": "stdout",
     "output_type": "stream",
     "text": [
      "+-----+-----+-----+-----+-----+-----+--------------------+\n",
      "|var_1|var_2|var_3|var_4|var_5|label|            features|\n",
      "+-----+-----+-----+-----+-----+-----+--------------------+\n",
      "|  734|  688|   81|0.328|0.259|0.418|[734.0,688.0,81.0...|\n",
      "|  700|  600|   94| 0.32|0.247|0.389|[700.0,600.0,94.0...|\n",
      "|  712|  705|   93|0.311|0.247|0.417|[712.0,705.0,93.0...|\n",
      "|  734|  806|   69|0.315| 0.26|0.415|[734.0,806.0,69.0...|\n",
      "|  613|  759|   61|0.302| 0.24|0.378|[613.0,759.0,61.0...|\n",
      "|  748|  676|   85|0.318|0.255|0.422|[748.0,676.0,85.0...|\n",
      "|  669|  588|   97|0.315|0.251|0.411|[669.0,588.0,97.0...|\n",
      "|  667|  845|   68|0.324|0.251|0.381|[667.0,845.0,68.0...|\n",
      "|  758|  890|   64| 0.33|0.274|0.436|[758.0,890.0,64.0...|\n",
      "|  726|  670|   88|0.335|0.268|0.422|[726.0,670.0,88.0...|\n",
      "|  583|  794|   55|0.302|0.236|0.371|[583.0,794.0,55.0...|\n",
      "|  676|  746|   72|0.317|0.265|  0.4|[676.0,746.0,72.0...|\n",
      "|  767|  699|   89|0.332|0.274|0.433|[767.0,699.0,89.0...|\n",
      "|  637|  597|   86|0.317|0.252|0.374|[637.0,597.0,86.0...|\n",
      "|  609|  724|   69|0.308|0.244|0.382|[609.0,724.0,69.0...|\n",
      "|  776|  733|   83|0.325|0.259|0.437|[776.0,733.0,83.0...|\n",
      "|  701|  832|   66|0.325| 0.26| 0.39|[701.0,832.0,66.0...|\n",
      "|  650|  709|   74|0.316|0.249|0.386|[650.0,709.0,74.0...|\n",
      "|  804|  668|   95|0.337|0.265|0.453|[804.0,668.0,95.0...|\n",
      "|  713|  614|   94| 0.31|0.238|0.404|[713.0,614.0,94.0...|\n",
      "+-----+-----+-----+-----+-----+-----+--------------------+\n"
     ]
    }
   ],
   "source": [
    "features_df.select(\"*\").show()"
   ]
  },
  {
   "cell_type": "code",
   "execution_count": 33,
   "id": "cbe30279-3097-45a6-bcd6-cd47c92ed77e",
   "metadata": {},
   "outputs": [],
   "source": [
    "model_df = features_df.select(\"label\", \"features\")"
   ]
  },
  {
   "cell_type": "code",
   "execution_count": 34,
   "id": "e3c45bec-5f85-4762-93a9-b5bd887ec810",
   "metadata": {},
   "outputs": [
    {
     "name": "stdout",
     "output_type": "stream",
     "text": [
      "+-----+--------------------+\n",
      "|label|            features|\n",
      "+-----+--------------------+\n",
      "|0.418|[734.0,688.0,81.0...|\n",
      "|0.389|[700.0,600.0,94.0...|\n",
      "|0.417|[712.0,705.0,93.0...|\n",
      "|0.415|[734.0,806.0,69.0...|\n",
      "|0.378|[613.0,759.0,61.0...|\n",
      "|0.422|[748.0,676.0,85.0...|\n",
      "|0.411|[669.0,588.0,97.0...|\n",
      "|0.381|[667.0,845.0,68.0...|\n",
      "|0.436|[758.0,890.0,64.0...|\n",
      "|0.422|[726.0,670.0,88.0...|\n",
      "|0.371|[583.0,794.0,55.0...|\n",
      "|  0.4|[676.0,746.0,72.0...|\n",
      "|0.433|[767.0,699.0,89.0...|\n",
      "|0.374|[637.0,597.0,86.0...|\n",
      "|0.382|[609.0,724.0,69.0...|\n",
      "|0.437|[776.0,733.0,83.0...|\n",
      "| 0.39|[701.0,832.0,66.0...|\n",
      "|0.386|[650.0,709.0,74.0...|\n",
      "|0.453|[804.0,668.0,95.0...|\n",
      "|0.404|[713.0,614.0,94.0...|\n",
      "+-----+--------------------+\n"
     ]
    }
   ],
   "source": [
    "model_df.show()"
   ]
  },
  {
   "cell_type": "code",
   "execution_count": 35,
   "id": "314fa8a8-af85-491f-b2b2-5af153fb41cf",
   "metadata": {},
   "outputs": [],
   "source": [
    "train_df, test_df = model_df.randomSplit([0.75, 0.25])"
   ]
  },
  {
   "cell_type": "code",
   "execution_count": 36,
   "id": "39e0beae-0cfd-4795-84f0-8b8f0ab3d64e",
   "metadata": {},
   "outputs": [
    {
     "name": "stderr",
     "output_type": "stream",
     "text": [
      "                                                                                \r"
     ]
    },
    {
     "data": {
      "text/plain": [
       "913"
      ]
     },
     "execution_count": 36,
     "metadata": {},
     "output_type": "execute_result"
    }
   ],
   "source": [
    "train_df.count()"
   ]
  },
  {
   "cell_type": "code",
   "execution_count": 37,
   "id": "45219263-4a92-4394-ac38-04c7e2234807",
   "metadata": {},
   "outputs": [
    {
     "data": {
      "text/plain": [
       "319"
      ]
     },
     "execution_count": 37,
     "metadata": {},
     "output_type": "execute_result"
    }
   ],
   "source": [
    "test_df.count()"
   ]
  },
  {
   "cell_type": "code",
   "execution_count": 39,
   "id": "001e86de-1035-4526-ae65-246b1fad5d4d",
   "metadata": {},
   "outputs": [],
   "source": [
    "lin_reg = LinearRegression(labelCol='label')"
   ]
  },
  {
   "cell_type": "code",
   "execution_count": 40,
   "id": "c88531b9-465f-44c2-bcff-3ce327542486",
   "metadata": {},
   "outputs": [
    {
     "name": "stderr",
     "output_type": "stream",
     "text": [
      "23/07/13 01:05:34 WARN Instrumentation: [68e94545] regParam is zero, which might cause numerical instability and overfitting.\n",
      "23/07/13 01:05:35 WARN InstanceBuilder: Failed to load implementation from:dev.ludovic.netlib.blas.VectorBLAS\n",
      "                                                                                \r"
     ]
    }
   ],
   "source": [
    "lr_model = lin_reg.fit(train_df)"
   ]
  },
  {
   "cell_type": "code",
   "execution_count": 41,
   "id": "dbf7b577-00aa-48ad-90d0-137ccb4960ff",
   "metadata": {},
   "outputs": [
    {
     "data": {
      "text/plain": [
       "DenseVector([0.0003, 0.0001, 0.0002, -0.6845, 0.5173])"
      ]
     },
     "execution_count": 41,
     "metadata": {},
     "output_type": "execute_result"
    }
   ],
   "source": [
    "lr_model.coefficients"
   ]
  },
  {
   "cell_type": "code",
   "execution_count": 42,
   "id": "e571b216-d611-4bef-a2d9-50505948e907",
   "metadata": {},
   "outputs": [
    {
     "data": {
      "text/plain": [
       "0.18930968207761767"
      ]
     },
     "execution_count": 42,
     "metadata": {},
     "output_type": "execute_result"
    }
   ],
   "source": [
    "lr_model.intercept"
   ]
  },
  {
   "cell_type": "code",
   "execution_count": 43,
   "id": "b6fa6275-cbac-4762-9c64-5622405f1de0",
   "metadata": {},
   "outputs": [],
   "source": [
    "training_predictions = lr_model.evaluate(train_df)"
   ]
  },
  {
   "cell_type": "code",
   "execution_count": 45,
   "id": "aa9d5ff5-9deb-431c-83fe-230c3552cdc2",
   "metadata": {},
   "outputs": [
    {
     "data": {
      "text/plain": [
       "0.8685026096285458"
      ]
     },
     "execution_count": 45,
     "metadata": {},
     "output_type": "execute_result"
    }
   ],
   "source": [
    "training_predictions.r2"
   ]
  },
  {
   "cell_type": "code",
   "execution_count": 46,
   "id": "4ac54a06-df9f-4202-81af-322556b7d9ff",
   "metadata": {},
   "outputs": [],
   "source": [
    "test_results = lr_model.evaluate(test_df)"
   ]
  },
  {
   "cell_type": "code",
   "execution_count": 47,
   "id": "2de980f6-b9b6-4d6e-af20-0a7feae54d8b",
   "metadata": {},
   "outputs": [
    {
     "data": {
      "text/plain": [
       "0.8701743121243751"
      ]
     },
     "execution_count": 47,
     "metadata": {},
     "output_type": "execute_result"
    }
   ],
   "source": [
    "test_results.r2"
   ]
  },
  {
   "cell_type": "code",
   "execution_count": 48,
   "id": "fdb0300f-1f7d-4887-ab2f-8e06e16b82ed",
   "metadata": {},
   "outputs": [
    {
     "data": {
      "text/plain": [
       "0.012410168801895074"
      ]
     },
     "execution_count": 48,
     "metadata": {},
     "output_type": "execute_result"
    }
   ],
   "source": [
    "test_results.rootMeanSquaredError"
   ]
  },
  {
   "cell_type": "markdown",
   "id": "87c22d61-86ac-489b-8caa-9de49bc2d853",
   "metadata": {},
   "source": [
    "## Pipeline"
   ]
  },
  {
   "cell_type": "code",
   "execution_count": 5,
   "id": "cd4d942e-370a-4f4a-a434-2bfae55ae61f",
   "metadata": {},
   "outputs": [],
   "source": [
    "def read_csv(file):\n",
    "    return spark.read\\\n",
    "        .option('inferSchema', True)\\\n",
    "        .option('header', True)\\\n",
    "        .csv(file)"
   ]
  },
  {
   "cell_type": "code",
   "execution_count": 6,
   "id": "e3630d9c-6750-4605-b1ae-e229620f07cb",
   "metadata": {},
   "outputs": [],
   "source": [
    "file = \"./csv/Linear_regression_dataset.csv\"\n",
    "df = read_csv(file).withColumnRenamed('output', 'label')\n",
    "train_df, test_df = df.randomSplit([.75, .25])"
   ]
  },
  {
   "cell_type": "code",
   "execution_count": 9,
   "id": "f82e4b8e-0d6b-4093-b038-11abb93680d7",
   "metadata": {},
   "outputs": [
    {
     "name": "stderr",
     "output_type": "stream",
     "text": [
      "23/07/13 02:02:16 WARN Instrumentation: [6da8d134] regParam is zero, which might cause numerical instability and overfitting.\n",
      "23/07/13 02:02:16 WARN InstanceBuilder: Failed to load implementation from:dev.ludovic.netlib.blas.VectorBLAS\n",
      "                                                                                \r"
     ]
    },
    {
     "name": "stdout",
     "output_type": "stream",
     "text": [
      "+-----+-----+-----+-----+-----+-----+--------------------+--------------------+-------------------+\n",
      "|var_1|var_2|var_3|var_4|var_5|label|        out_features|            features|         prediction|\n",
      "+-----+-----+-----+-----+-----+-----+--------------------+--------------------+-------------------+\n",
      "|  514|  549|   81|0.307|0.252|0.339|[514.0,549.0,81.0...|[5.53744168224839...|0.32780702590812316|\n",
      "|  516|  504|   86|0.293|0.234|0.327|[516.0,504.0,86.0...|[5.55898814793807...|0.32829470637095276|\n",
      "|  527|  569|   75|0.297|0.239|0.341|[527.0,569.0,75.0...|[5.67749370923132...| 0.3328365442264376|\n",
      "|  532|  690|   69|0.303|0.245|0.351|[532.0,690.0,69.0...|[5.73135987345553...| 0.3391130402933826|\n",
      "|  541|  830|   60|0.302|0.229| 0.33|[541.0,830.0,60.0...|[5.82831896905910...| 0.3421441353390216|\n",
      "+-----+-----+-----+-----+-----+-----+--------------------+--------------------+-------------------+\n"
     ]
    }
   ],
   "source": [
    "features = ['var_1', 'var_2', 'var_3', 'var_4', 'var_5']\n",
    "stage_1 = VectorAssembler(inputCols=features, outputCol=\"out_features\")\n",
    "stage_2 = StandardScaler(inputCol=\"out_features\", outputCol=\"features\")\n",
    "stage_3 = LinearRegression()\n",
    "stages = [stage_1, stage_2, stage_3]\n",
    "pipeline = Pipeline(stages=stages)\n",
    "\n",
    "\n",
    "model = pipeline.fit(train_df)\n",
    "pred_result = model.transform(test_df)\n",
    "pred_result.show(5)"
   ]
  },
  {
   "cell_type": "code",
   "execution_count": 10,
   "id": "3d0f1353-552c-4435-bfb0-82568637de4e",
   "metadata": {},
   "outputs": [
    {
     "name": "stdout",
     "output_type": "stream",
     "text": [
      "0.8472125275249509\n",
      "0.01235997204833508\n"
     ]
    }
   ],
   "source": [
    "reg_eval = RegressionEvaluator(labelCol=\"label\", predictionCol=\"prediction\", metricName=\"rmse\")\n",
    "acc = reg_eval.evaluate(pred_result, {reg_eval.metricName: \"r2\"})\n",
    "print(acc)\n",
    "rmse = reg_eval.evaluate(pred_result)\n",
    "print(rmse)"
   ]
  },
  {
   "cell_type": "code",
   "execution_count": null,
   "id": "6ade2c21-bdec-4837-a933-9561b391c2ad",
   "metadata": {},
   "outputs": [],
   "source": []
  }
 ],
 "metadata": {
  "kernelspec": {
   "display_name": "Python 3 (ipykernel)",
   "language": "python",
   "name": "python3"
  },
  "language_info": {
   "codemirror_mode": {
    "name": "ipython",
    "version": 3
   },
   "file_extension": ".py",
   "mimetype": "text/x-python",
   "name": "python",
   "nbconvert_exporter": "python",
   "pygments_lexer": "ipython3",
   "version": "3.11.2"
  }
 },
 "nbformat": 4,
 "nbformat_minor": 5
}
