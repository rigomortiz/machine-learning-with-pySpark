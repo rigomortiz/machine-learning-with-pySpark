{
 "cells": [
  {
   "cell_type": "code",
   "execution_count": 28,
   "id": "83a9db1e-38eb-4612-ab67-9d86705ea207",
   "metadata": {},
   "outputs": [],
   "source": [
    "import pyspark\n",
    "from pyspark.sql.functions import *\n",
    "from pyspark.sql.types import *\n",
    "from pyspark.sql import SparkSession\n",
    "\n",
    "import matplotlib.dates as mdates\n",
    "import matplotlib.pyplot as plt\n",
    "import statistics as stat\n",
    "import pandas as pd"
   ]
  },
  {
   "cell_type": "code",
   "execution_count": 2,
   "id": "2bd4aa3c-720b-4092-99dc-12caff9a102f",
   "metadata": {},
   "outputs": [
    {
     "name": "stderr",
     "output_type": "stream",
     "text": [
      "23/07/10 22:25:07 WARN Utils: Your hostname, debian resolves to a loopback address: 127.0.1.1; using 192.168.0.143 instead (on interface eno1)\n",
      "23/07/10 22:25:07 WARN Utils: Set SPARK_LOCAL_IP if you need to bind to another address\n",
      "Setting default log level to \"WARN\".\n",
      "To adjust logging level use sc.setLogLevel(newLevel). For SparkR, use setLogLevel(newLevel).\n",
      "23/07/10 22:25:12 WARN NativeCodeLoader: Unable to load native-hadoop library for your platform... using builtin-java classes where applicable\n"
     ]
    }
   ],
   "source": [
    "spark = SparkSession.builder.appName(\"appSpark\").getOrCreate()"
   ]
  },
  {
   "cell_type": "code",
   "execution_count": 5,
   "id": "2ca2a256-cb88-4af4-a686-6127eb2878ce",
   "metadata": {},
   "outputs": [],
   "source": [
    "file = \"./csv/afluenciastc_desglosado_05_2023.csv\"\n"
   ]
  },
  {
   "cell_type": "code",
   "execution_count": 3,
   "id": "fd0837ea-34ca-4b99-b95d-c0deee41c7fd",
   "metadata": {},
   "outputs": [],
   "source": [
    "def read_csv(path):\n",
    "    return spark.read.format(\"csv\")\\\n",
    "            .option(\"inferSchema\", True)\\\n",
    "            .option(\"header\", True)\\\n",
    "            .option(\"sep\", \",\")\\\n",
    "            .load(path)"
   ]
  },
  {
   "cell_type": "code",
   "execution_count": 6,
   "id": "a37860fd-0211-47ac-a9f9-b748313503b4",
   "metadata": {},
   "outputs": [
    {
     "name": "stderr",
     "output_type": "stream",
     "text": [
      "                                                                                \r"
     ]
    },
    {
     "name": "stdout",
     "output_type": "stream",
     "text": [
      "+----------+-----+----+-------+----------------------+---------+---------+\n",
      "|fecha     |mes  |anio|linea  |estacion              |tipo_pago|afluencia|\n",
      "+----------+-----+----+-------+----------------------+---------+---------+\n",
      "|2021-01-01|Enero|2021|Linea 1|Balbuena              |Boleto   |1848     |\n",
      "|2021-01-01|Enero|2021|Linea 1|Balbuena              |Prepago  |790      |\n",
      "|2021-01-01|Enero|2021|Linea 1|Balbuena              |Gratuidad|325      |\n",
      "|2021-01-01|Enero|2021|Linea 1|Balderas              |Boleto   |1103     |\n",
      "|2021-01-01|Enero|2021|Linea 1|Balderas              |Prepago  |922      |\n",
      "|2021-01-01|Enero|2021|Linea 1|Balderas              |Gratuidad|651      |\n",
      "|2021-01-01|Enero|2021|Linea 1|Boulevard Puerto Aéreo|Boleto   |4890     |\n",
      "|2021-01-01|Enero|2021|Linea 1|Boulevard Puerto Aéreo|Prepago  |2797     |\n",
      "|2021-01-01|Enero|2021|Linea 1|Boulevard Puerto Aéreo|Gratuidad|1053     |\n",
      "|2021-01-01|Enero|2021|Linea 1|Candelaria            |Boleto   |0        |\n",
      "+----------+-----+----+-------+----------------------+---------+---------+\n",
      "only showing top 10 rows\n",
      "\n"
     ]
    }
   ],
   "source": [
    "df = read_csv(file)\n",
    "df.show(10, False)"
   ]
  },
  {
   "cell_type": "code",
   "execution_count": 18,
   "id": "24430177-6060-4c8f-994b-f6326db0afde",
   "metadata": {},
   "outputs": [
    {
     "name": "stderr",
     "output_type": "stream",
     "text": [
      "[Stage 20:===================>                                      (1 + 2) / 3]\r"
     ]
    },
    {
     "name": "stdout",
     "output_type": "stream",
     "text": [
      "+----------+-----+----+-------+-----------+---------+---------+\n",
      "|     fecha|  mes|anio|  linea|   estacion|tipo_pago|afluencia|\n",
      "+----------+-----+----+-------+-----------+---------+---------+\n",
      "|2023-01-01|Enero|2023|Linea 1|   Balderas|   Boleto|     2823|\n",
      "|2023-01-01|Enero|2023|Linea 1|   Balderas|  Prepago|     2234|\n",
      "|2023-01-01|Enero|2023|Linea 1|   Balderas|Gratuidad|     2325|\n",
      "|2023-01-01|Enero|2023|Linea 1| Cuauhtémoc|   Boleto|     1320|\n",
      "|2023-01-01|Enero|2023|Linea 1| Cuauhtémoc|  Prepago|      752|\n",
      "|2023-01-01|Enero|2023|Linea 1| Cuauhtémoc|Gratuidad|      320|\n",
      "|2023-01-01|Enero|2023|Linea 1|Insurgentes|   Boleto|     2853|\n",
      "|2023-01-01|Enero|2023|Linea 1|Insurgentes|  Prepago|     4338|\n",
      "|2023-01-01|Enero|2023|Linea 1|Insurgentes|Gratuidad|     3154|\n",
      "|2023-01-01|Enero|2023|Linea 1|    Sevilla|   Boleto|     1803|\n",
      "|2023-01-01|Enero|2023|Linea 1|    Sevilla|  Prepago|     1660|\n",
      "|2023-01-01|Enero|2023|Linea 1|    Sevilla|Gratuidad|      533|\n",
      "|2023-01-01|Enero|2023|Linea 1|Chapultepec|   Boleto|     4600|\n",
      "|2023-01-01|Enero|2023|Linea 1|Chapultepec|  Prepago|     4133|\n",
      "|2023-01-01|Enero|2023|Linea 1|Chapultepec|Gratuidad|     1081|\n",
      "|2023-01-01|Enero|2023|Linea 1|Juanacatlán|   Boleto|      628|\n",
      "|2023-01-01|Enero|2023|Linea 1|Juanacatlán|  Prepago|      425|\n",
      "|2023-01-01|Enero|2023|Linea 1|Juanacatlán|Gratuidad|      267|\n",
      "|2023-01-01|Enero|2023|Linea 1|   Tacubaya|   Boleto|     1731|\n",
      "|2023-01-01|Enero|2023|Linea 1|   Tacubaya|  Prepago|     2373|\n",
      "+----------+-----+----+-------+-----------+---------+---------+\n",
      "only showing top 20 rows\n",
      "\n"
     ]
    },
    {
     "name": "stderr",
     "output_type": "stream",
     "text": [
      "                                                                                \r"
     ]
    }
   ],
   "source": [
    "df.filter((df['anio'] == 2023) & (df['afluencia'] != 0)).show()"
   ]
  },
  {
   "cell_type": "code",
   "execution_count": 21,
   "id": "e0694347-a11a-4f77-9520-bdf64bd4070a",
   "metadata": {},
   "outputs": [
    {
     "name": "stderr",
     "output_type": "stream",
     "text": [
      "[Stage 24:===========================================>              (3 + 1) / 4]\r"
     ]
    },
    {
     "name": "stdout",
     "output_type": "stream",
     "text": [
      "+-------+-----+\n",
      "|  linea|count|\n",
      "+-------+-----+\n",
      "|Linea 6|   33|\n",
      "|Linea 8|   57|\n",
      "|Linea 1|   24|\n",
      "|Linea 9|   35|\n",
      "|Linea B|   62|\n",
      "|Linea 2|   72|\n",
      "|Linea A|   30|\n",
      "|Linea 3|   63|\n",
      "|Linea 7|   40|\n",
      "|Linea 5|   39|\n",
      "|Linea 4|   30|\n",
      "+-------+-----+\n",
      "\n"
     ]
    },
    {
     "name": "stderr",
     "output_type": "stream",
     "text": [
      "                                                                                \r"
     ]
    }
   ],
   "source": [
    "df.filter((df['fecha'] == '2023-01-01') & (df['afluencia'] != 0)).groupBy('linea').count().show()"
   ]
  },
  {
   "cell_type": "code",
   "execution_count": 42,
   "id": "90b0d24b-244c-4d1e-88c8-5577679de39d",
   "metadata": {},
   "outputs": [
    {
     "name": "stderr",
     "output_type": "stream",
     "text": [
      "[Stage 50:>                                                         (0 + 4) / 4]\r"
     ]
    },
    {
     "name": "stdout",
     "output_type": "stream",
     "text": [
      "+--------+--------------+\n",
      "|   linea|sum(afluencia)|\n",
      "+--------+--------------+\n",
      "| Linea 4|      11000357|\n",
      "|Linea 12|      12695244|\n",
      "| Linea 6|      16624550|\n",
      "| Linea 5|      25039890|\n",
      "| Linea 1|      25076163|\n",
      "| Linea 7|      31334251|\n",
      "| Linea A|      32218774|\n",
      "| Linea 9|      40707579|\n",
      "| Linea B|      53281235|\n",
      "| Linea 8|      54450756|\n",
      "| Linea 3|      73602335|\n",
      "| Linea 2|      80455442|\n",
      "+--------+--------------+\n",
      "\n"
     ]
    },
    {
     "name": "stderr",
     "output_type": "stream",
     "text": [
      "                                                                                \r"
     ]
    }
   ],
   "source": [
    "df.filter((df['anio'] == '2023') & (df['afluencia'] != 0)).groupBy('linea')\\\n",
    "        .agg({'afluencia': 'sum'}).orderBy('sum(afluencia)').show()"
   ]
  },
  {
   "cell_type": "code",
   "execution_count": 66,
   "id": "75212fab-379c-4338-9685-ac7fe2e0bae4",
   "metadata": {},
   "outputs": [
    {
     "name": "stderr",
     "output_type": "stream",
     "text": [
      "[Stage 110:============================>                            (2 + 2) / 4]\r"
     ]
    },
    {
     "name": "stdout",
     "output_type": "stream",
     "text": [
      "+-------+-------+--------------------+\n",
      "|summary|  linea|      sum(afluencia)|\n",
      "+-------+-------+--------------------+\n",
      "|  count|     12|                  12|\n",
      "|   mean|   null|         3.8040548E7|\n",
      "| stddev|   null|2.3002987241147168E7|\n",
      "|    min|Linea 1|            11000357|\n",
      "|    max|Linea B|            80455442|\n",
      "+-------+-------+--------------------+\n",
      "\n"
     ]
    },
    {
     "name": "stderr",
     "output_type": "stream",
     "text": [
      "                                                                                \r"
     ]
    }
   ],
   "source": [
    "df.filter((df['anio'] == '2023') & (df['afluencia'] != 0)).groupBy('linea')\\\n",
    "        .agg({'afluencia': 'sum'}).orderBy('sum(afluencia)').describe().show()"
   ]
  },
  {
   "cell_type": "code",
   "execution_count": 70,
   "id": "26119a03-edee-4a5c-97bd-be8c8aaf406c",
   "metadata": {},
   "outputs": [
    {
     "name": "stderr",
     "output_type": "stream",
     "text": [
      "                                                                                \r"
     ]
    },
    {
     "name": "stdout",
     "output_type": "stream",
     "text": [
      "+-------+------------------+-------------------+\n",
      "|summary|    sum(afluencia)|           estacion|\n",
      "+-------+------------------+-------------------+\n",
      "|  count|               145|                145|\n",
      "|   mean|3148183.2827586206|               null|\n",
      "| stddev|2730413.5865286225|               null|\n",
      "|    min|            500485|           Acatitla|\n",
      "|    max|          20458762|Zócalo/Tenochtitlan|\n",
      "+-------+------------------+-------------------+\n",
      "\n"
     ]
    }
   ],
   "source": [
    "df.filter((df['anio'] == '2023') & (df['afluencia'] != 0)).groupBy('estacion')\\\n",
    "        .agg({'afluencia': 'sum'}).orderBy('sum(afluencia)').describe('sum(afluencia)').show()"
   ]
  },
  {
   "cell_type": "code",
   "execution_count": 72,
   "id": "d076d446-ece6-4789-bcc6-dc810a2f705d",
   "metadata": {},
   "outputs": [],
   "source": [
    "estaciones_afluencia_df = df.filter((df['anio'] == '2023') & (df['afluencia'] != 0)).groupBy('estacion')\\\n",
    "        .agg({'afluencia': 'sum'})"
   ]
  },
  {
   "cell_type": "code",
   "execution_count": 73,
   "id": "a28fdb50-f147-4f9e-9a44-bcd2a8170882",
   "metadata": {},
   "outputs": [
    {
     "name": "stderr",
     "output_type": "stream",
     "text": [
      "[Stage 158:==========================================>              (3 + 1) / 4]\r"
     ]
    },
    {
     "name": "stdout",
     "output_type": "stream",
     "text": [
      "+--------------------+--------------+\n",
      "|            estacion|sum(afluencia)|\n",
      "+--------------------+--------------+\n",
      "|           Pantitlán|      20458762|\n",
      "|Constitución de 1917|      15713270|\n",
      "|       Indios Verdes|      13343322|\n",
      "|            Tacubaya|      11026423|\n",
      "|            Tasqueña|       8209932|\n",
      "|         Universidad|       8064861|\n",
      "|      Cuatro Caminos|       8041816|\n",
      "|            Balderas|       7878021|\n",
      "|          Buenavista|       7678568|\n",
      "| Zócalo/Tenochtitlan|       7122799|\n",
      "|      Martín Carrera|       6477071|\n",
      "|              Puebla|       5980504|\n",
      "|             Hidalgo|       5859048|\n",
      "|              La Paz|       5855167|\n",
      "|          El Rosario|       5693447|\n",
      "|           Atlalilco|       5660526|\n",
      "|        Observatorio|       5590072|\n",
      "|        Bellas Artes|       5484726|\n",
      "|        Chilpancingo|       5427749|\n",
      "|       Ciudad Azteca|       5328345|\n",
      "+--------------------+--------------+\n",
      "only showing top 20 rows\n",
      "\n"
     ]
    },
    {
     "name": "stderr",
     "output_type": "stream",
     "text": [
      "                                                                                \r"
     ]
    }
   ],
   "source": [
    "estaciones_afluencia_df.orderBy(col('sum(afluencia)').desc()).show()"
   ]
  },
  {
   "cell_type": "code",
   "execution_count": 78,
   "id": "d51d498a-8ae1-4636-a9ca-507b7c21dfdd",
   "metadata": {},
   "outputs": [
    {
     "name": "stderr",
     "output_type": "stream",
     "text": [
      "                                                                                \r"
     ]
    }
   ],
   "source": [
    "estaciones_afluencia_df.orderBy(col('sum(afluencia)').desc())\\\n",
    "    .write.format('csv').option('header', 'true').save('./csv/estaciones_afluencia_v1.csv')"
   ]
  },
  {
   "cell_type": "code",
   "execution_count": 81,
   "id": "c6e36f8c-2cb6-4451-bd7f-edbae87ba278",
   "metadata": {
    "collapsed": true,
    "jupyter": {
     "outputs_hidden": true
    }
   },
   "outputs": [
    {
     "name": "stderr",
     "output_type": "stream",
     "text": [
      "                                                                                \r"
     ]
    },
    {
     "ename": "AnalysisException",
     "evalue": "[PATH_ALREADY_EXISTS] Path file:/home/rigomortiz/Documentos/Notebooks/parquet/estaciones_afluencia_v1.parquet already exists. Set mode as \"overwrite\" to overwrite the existing path.",
     "output_type": "error",
     "traceback": [
      "\u001b[0;31m---------------------------------------------------------------------------\u001b[0m",
      "\u001b[0;31mAnalysisException\u001b[0m                         Traceback (most recent call last)",
      "Cell \u001b[0;32mIn [81], line 2\u001b[0m\n\u001b[1;32m      1\u001b[0m \u001b[43mestaciones_afluencia_df\u001b[49m\u001b[38;5;241;43m.\u001b[39;49m\u001b[43morderBy\u001b[49m\u001b[43m(\u001b[49m\u001b[43mcol\u001b[49m\u001b[43m(\u001b[49m\u001b[38;5;124;43m'\u001b[39;49m\u001b[38;5;124;43msum(afluencia)\u001b[39;49m\u001b[38;5;124;43m'\u001b[39;49m\u001b[43m)\u001b[49m\u001b[38;5;241;43m.\u001b[39;49m\u001b[43mdesc\u001b[49m\u001b[43m(\u001b[49m\u001b[43m)\u001b[49m\u001b[43m)\u001b[49m\u001b[43m\\\u001b[49m\n\u001b[0;32m----> 2\u001b[0m \u001b[43m    \u001b[49m\u001b[38;5;241;43m.\u001b[39;49m\u001b[43mwrite\u001b[49m\u001b[38;5;241;43m.\u001b[39;49m\u001b[43mformat\u001b[49m\u001b[43m(\u001b[49m\u001b[38;5;124;43m'\u001b[39;49m\u001b[38;5;124;43mparquet\u001b[39;49m\u001b[38;5;124;43m'\u001b[39;49m\u001b[43m)\u001b[49m\u001b[38;5;241;43m.\u001b[39;49m\u001b[43moption\u001b[49m\u001b[43m(\u001b[49m\u001b[38;5;124;43m'\u001b[39;49m\u001b[38;5;124;43mheader\u001b[39;49m\u001b[38;5;124;43m'\u001b[39;49m\u001b[43m,\u001b[49m\u001b[43m \u001b[49m\u001b[38;5;124;43m'\u001b[39;49m\u001b[38;5;124;43mtrue\u001b[39;49m\u001b[38;5;124;43m'\u001b[39;49m\u001b[43m)\u001b[49m\u001b[38;5;241;43m.\u001b[39;49m\u001b[43msave\u001b[49m\u001b[43m(\u001b[49m\u001b[38;5;124;43m'\u001b[39;49m\u001b[38;5;124;43m./parquet/estaciones_afluencia_v1.parquet\u001b[39;49m\u001b[38;5;124;43m'\u001b[39;49m\u001b[43m)\u001b[49m\n",
      "File \u001b[0;32m~/.local/lib/python3.11/site-packages/pyspark/sql/readwriter.py:1398\u001b[0m, in \u001b[0;36mDataFrameWriter.save\u001b[0;34m(self, path, format, mode, partitionBy, **options)\u001b[0m\n\u001b[1;32m   1396\u001b[0m     \u001b[38;5;28mself\u001b[39m\u001b[38;5;241m.\u001b[39m_jwrite\u001b[38;5;241m.\u001b[39msave()\n\u001b[1;32m   1397\u001b[0m \u001b[38;5;28;01melse\u001b[39;00m:\n\u001b[0;32m-> 1398\u001b[0m     \u001b[38;5;28;43mself\u001b[39;49m\u001b[38;5;241;43m.\u001b[39;49m\u001b[43m_jwrite\u001b[49m\u001b[38;5;241;43m.\u001b[39;49m\u001b[43msave\u001b[49m\u001b[43m(\u001b[49m\u001b[43mpath\u001b[49m\u001b[43m)\u001b[49m\n",
      "File \u001b[0;32m~/.local/lib/python3.11/site-packages/py4j/java_gateway.py:1322\u001b[0m, in \u001b[0;36mJavaMember.__call__\u001b[0;34m(self, *args)\u001b[0m\n\u001b[1;32m   1316\u001b[0m command \u001b[38;5;241m=\u001b[39m proto\u001b[38;5;241m.\u001b[39mCALL_COMMAND_NAME \u001b[38;5;241m+\u001b[39m\\\n\u001b[1;32m   1317\u001b[0m     \u001b[38;5;28mself\u001b[39m\u001b[38;5;241m.\u001b[39mcommand_header \u001b[38;5;241m+\u001b[39m\\\n\u001b[1;32m   1318\u001b[0m     args_command \u001b[38;5;241m+\u001b[39m\\\n\u001b[1;32m   1319\u001b[0m     proto\u001b[38;5;241m.\u001b[39mEND_COMMAND_PART\n\u001b[1;32m   1321\u001b[0m answer \u001b[38;5;241m=\u001b[39m \u001b[38;5;28mself\u001b[39m\u001b[38;5;241m.\u001b[39mgateway_client\u001b[38;5;241m.\u001b[39msend_command(command)\n\u001b[0;32m-> 1322\u001b[0m return_value \u001b[38;5;241m=\u001b[39m \u001b[43mget_return_value\u001b[49m\u001b[43m(\u001b[49m\n\u001b[1;32m   1323\u001b[0m \u001b[43m    \u001b[49m\u001b[43manswer\u001b[49m\u001b[43m,\u001b[49m\u001b[43m \u001b[49m\u001b[38;5;28;43mself\u001b[39;49m\u001b[38;5;241;43m.\u001b[39;49m\u001b[43mgateway_client\u001b[49m\u001b[43m,\u001b[49m\u001b[43m \u001b[49m\u001b[38;5;28;43mself\u001b[39;49m\u001b[38;5;241;43m.\u001b[39;49m\u001b[43mtarget_id\u001b[49m\u001b[43m,\u001b[49m\u001b[43m \u001b[49m\u001b[38;5;28;43mself\u001b[39;49m\u001b[38;5;241;43m.\u001b[39;49m\u001b[43mname\u001b[49m\u001b[43m)\u001b[49m\n\u001b[1;32m   1325\u001b[0m \u001b[38;5;28;01mfor\u001b[39;00m temp_arg \u001b[38;5;129;01min\u001b[39;00m temp_args:\n\u001b[1;32m   1326\u001b[0m     \u001b[38;5;28;01mif\u001b[39;00m \u001b[38;5;28mhasattr\u001b[39m(temp_arg, \u001b[38;5;124m\"\u001b[39m\u001b[38;5;124m_detach\u001b[39m\u001b[38;5;124m\"\u001b[39m):\n",
      "File \u001b[0;32m~/.local/lib/python3.11/site-packages/pyspark/errors/exceptions/captured.py:175\u001b[0m, in \u001b[0;36mcapture_sql_exception.<locals>.deco\u001b[0;34m(*a, **kw)\u001b[0m\n\u001b[1;32m    171\u001b[0m converted \u001b[38;5;241m=\u001b[39m convert_exception(e\u001b[38;5;241m.\u001b[39mjava_exception)\n\u001b[1;32m    172\u001b[0m \u001b[38;5;28;01mif\u001b[39;00m \u001b[38;5;129;01mnot\u001b[39;00m \u001b[38;5;28misinstance\u001b[39m(converted, UnknownException):\n\u001b[1;32m    173\u001b[0m     \u001b[38;5;66;03m# Hide where the exception came from that shows a non-Pythonic\u001b[39;00m\n\u001b[1;32m    174\u001b[0m     \u001b[38;5;66;03m# JVM exception message.\u001b[39;00m\n\u001b[0;32m--> 175\u001b[0m     \u001b[38;5;28;01mraise\u001b[39;00m converted \u001b[38;5;28;01mfrom\u001b[39;00m \u001b[38;5;28mNone\u001b[39m\n\u001b[1;32m    176\u001b[0m \u001b[38;5;28;01melse\u001b[39;00m:\n\u001b[1;32m    177\u001b[0m     \u001b[38;5;28;01mraise\u001b[39;00m\n",
      "\u001b[0;31mAnalysisException\u001b[0m: [PATH_ALREADY_EXISTS] Path file:/home/rigomortiz/Documentos/Notebooks/parquet/estaciones_afluencia_v1.parquet already exists. Set mode as \"overwrite\" to overwrite the existing path."
     ]
    }
   ],
   "source": [
    "estaciones_afluencia_df.orderBy(col('sum(afluencia)').desc())\\\n",
    "    .write.format('parquet').option('header', 'true').save('./parquet/estaciones_afluencia_v1.parquet')"
   ]
  },
  {
   "cell_type": "code",
   "execution_count": 82,
   "id": "ee27eff3-57b1-4474-ba6d-f6f416471bfe",
   "metadata": {
    "collapsed": true,
    "jupyter": {
     "outputs_hidden": true
    }
   },
   "outputs": [
    {
     "name": "stdout",
     "output_type": "stream",
     "text": [
      "+----------+-----+----+-------+----------------------+---------+---------+\n",
      "|fecha     |mes  |anio|linea  |estacion              |tipo_pago|afluencia|\n",
      "+----------+-----+----+-------+----------------------+---------+---------+\n",
      "|2021-01-01|Enero|2021|Linea 1|Balbuena              |Boleto   |1848     |\n",
      "|2021-01-01|Enero|2021|Linea 1|Balbuena              |Prepago  |790      |\n",
      "|2021-01-01|Enero|2021|Linea 1|Balbuena              |Gratuidad|325      |\n",
      "|2021-01-01|Enero|2021|Linea 1|Balderas              |Boleto   |1103     |\n",
      "|2021-01-01|Enero|2021|Linea 1|Balderas              |Prepago  |922      |\n",
      "|2021-01-01|Enero|2021|Linea 1|Balderas              |Gratuidad|651      |\n",
      "|2021-01-01|Enero|2021|Linea 1|Boulevard Puerto Aéreo|Boleto   |4890     |\n",
      "|2021-01-01|Enero|2021|Linea 1|Boulevard Puerto Aéreo|Prepago  |2797     |\n",
      "|2021-01-01|Enero|2021|Linea 1|Boulevard Puerto Aéreo|Gratuidad|1053     |\n",
      "|2021-01-01|Enero|2021|Linea 1|Candelaria            |Boleto   |0        |\n",
      "+----------+-----+----+-------+----------------------+---------+---------+\n",
      "only showing top 10 rows\n",
      "\n"
     ]
    }
   ],
   "source": [
    "df.show(10, False)"
   ]
  },
  {
   "cell_type": "code",
   "execution_count": 56,
   "id": "b05afbe9-433a-4c9e-b6ee-85cd1614b6ad",
   "metadata": {},
   "outputs": [],
   "source": [
    "afleuncia_by_dia_df = df.select('fecha', 'linea', 'estacion', 'afluencia')\\\n",
    "            .groupBy('fecha')\\\n",
    "            .agg(sum('afluencia').alias('afluencia'))"
   ]
  },
  {
   "cell_type": "code",
   "execution_count": 57,
   "id": "4d8e56f0-be98-4ce6-a415-9ae12f1b2264",
   "metadata": {},
   "outputs": [
    {
     "name": "stderr",
     "output_type": "stream",
     "text": [
      "[Stage 32:===========================================>              (3 + 1) / 4]\r"
     ]
    },
    {
     "name": "stdout",
     "output_type": "stream",
     "text": [
      "+----------+---------+\n",
      "|     fecha|afluencia|\n",
      "+----------+---------+\n",
      "|2021-01-01|   723937|\n",
      "|2021-01-02|  1365016|\n",
      "|2021-01-03|  1175547|\n",
      "|2021-01-04|  2174685|\n",
      "|2021-01-05|  2232672|\n",
      "|2021-01-06|  1957117|\n",
      "|2021-01-07|  1967338|\n",
      "|2021-01-08|  2044443|\n",
      "|2021-01-09|   940652|\n",
      "|2021-01-10|   524758|\n",
      "|2021-01-11|  1055126|\n",
      "|2021-01-12|  1224639|\n",
      "|2021-01-13|  1242422|\n",
      "|2021-01-14|  1272387|\n",
      "|2021-01-15|  1316278|\n",
      "|2021-01-16|  1159839|\n",
      "|2021-01-17|   632192|\n",
      "|2021-01-18|  1264719|\n",
      "|2021-01-19|  1292800|\n",
      "|2021-01-20|  1299588|\n",
      "+----------+---------+\n",
      "only showing top 20 rows\n",
      "\n"
     ]
    },
    {
     "name": "stderr",
     "output_type": "stream",
     "text": [
      "                                                                                \r"
     ]
    }
   ],
   "source": [
    "afleuncia_by_dia_df.orderBy('fecha').show()"
   ]
  },
  {
   "cell_type": "code",
   "execution_count": 58,
   "id": "718ef169-530d-4c9e-aeed-c188f5e39b88",
   "metadata": {},
   "outputs": [
    {
     "name": "stderr",
     "output_type": "stream",
     "text": [
      "[Stage 35:===========================================>              (3 + 1) / 4]\r"
     ]
    },
    {
     "name": "stdout",
     "output_type": "stream",
     "text": [
      "+-------+------------------+\n",
      "|summary|         afluencia|\n",
      "+-------+------------------+\n",
      "|  count|               881|\n",
      "|   mean|2588983.4506242904|\n",
      "| stddev| 686148.6466311815|\n",
      "|    min|            524758|\n",
      "|    max|           3729680|\n",
      "+-------+------------------+\n",
      "\n"
     ]
    },
    {
     "name": "stderr",
     "output_type": "stream",
     "text": [
      "                                                                                \r"
     ]
    }
   ],
   "source": [
    "afleuncia_by_dia_df.describe().show()"
   ]
  },
  {
   "cell_type": "code",
   "execution_count": 65,
   "id": "c8119715-909c-4020-bfc1-4b42c8b437de",
   "metadata": {},
   "outputs": [
    {
     "name": "stderr",
     "output_type": "stream",
     "text": [
      "[Stage 59:===========================================>              (3 + 1) / 4]\r"
     ]
    },
    {
     "name": "stdout",
     "output_type": "stream",
     "text": [
      "+-------+---------+\n",
      "|fecha  |afluencia|\n",
      "+-------+---------+\n",
      "|2021-01|41033642 |\n",
      "|2021-02|50436321 |\n",
      "|2021-03|65449779 |\n",
      "|2021-04|62577359 |\n",
      "|2021-05|62689975 |\n",
      "|2021-06|63410819 |\n",
      "|2021-07|69822069 |\n",
      "|2021-08|67964499 |\n",
      "|2021-09|70154247 |\n",
      "|2021-10|78122952 |\n",
      "|2021-11|78483883 |\n",
      "|2021-12|84154004 |\n",
      "|2022-01|70563670 |\n",
      "|2022-02|72052555 |\n",
      "|2022-03|88358374 |\n",
      "|2022-04|82897274 |\n",
      "|2022-05|91245641 |\n",
      "|2022-06|88424030 |\n",
      "|2022-07|80680662 |\n",
      "|2022-08|90184617 |\n",
      "+-------+---------+\n",
      "only showing top 20 rows\n",
      "\n"
     ]
    },
    {
     "name": "stderr",
     "output_type": "stream",
     "text": [
      "                                                                                \r"
     ]
    }
   ],
   "source": [
    "df.select(col('fecha').substr(1, 7).alias('fecha'), 'afluencia')\\\n",
    "        .groupBy('fecha')\\\n",
    "        .agg(sum('afluencia').alias('afluencia'))\\\n",
    "        .orderBy('fecha')\\\n",
    "        .show(20, False)"
   ]
  },
  {
   "cell_type": "code",
   "execution_count": 67,
   "id": "f54b2c84-9df7-4d09-8f51-eeb8fbb528e6",
   "metadata": {},
   "outputs": [
    {
     "name": "stderr",
     "output_type": "stream",
     "text": [
      "23/07/10 23:44:17 WARN package: Truncated the string representation of a plan since it was too large. This behavior can be adjusted by setting 'spark.sql.debug.maxToStringFields'.\n",
      "[Stage 64:>                                                         (0 + 1) / 1]\r"
     ]
    },
    {
     "name": "stdout",
     "output_type": "stream",
     "text": [
      "+-------+----------+------------------+-------+-------------------+---------+-----------------+\n",
      "|summary|       mes|              anio|  linea|           estacion|tipo_pago|        afluencia|\n",
      "+-------+----------+------------------+-------+-------------------+---------+-----------------+\n",
      "|  count|    515385|            515385| 515385|             515385|   515385|           515385|\n",
      "|   mean|      null|2021.7570942111238|   null|               null|     null|4425.612736109899|\n",
      "| stddev|      null|0.7257381552942287|   null|               null|     null|6473.921058332933|\n",
      "|    min|     Abril|              2021|Linea 1|           Acatitla|   Boleto|                0|\n",
      "|    max|Septiembre|              2023|Linea B|Zócalo/Tenochtitlan|  Prepago|           101618|\n",
      "+-------+----------+------------------+-------+-------------------+---------+-----------------+\n",
      "\n"
     ]
    },
    {
     "name": "stderr",
     "output_type": "stream",
     "text": [
      "23/07/10 23:50:42 WARN JavaUtils: Attempt to delete using native Unix OS command failed for path = /tmp/blockmgr-b4c48700-2173-46f7-b24a-72b52ff75028. Falling back to Java IO way\n",
      "java.io.IOException: Failed to delete: /tmp/blockmgr-b4c48700-2173-46f7-b24a-72b52ff75028\n",
      "\tat org.apache.spark.network.util.JavaUtils.deleteRecursivelyUsingUnixNative(JavaUtils.java:177)\n",
      "\tat org.apache.spark.network.util.JavaUtils.deleteRecursively(JavaUtils.java:113)\n",
      "\tat org.apache.spark.network.util.JavaUtils.deleteRecursively(JavaUtils.java:94)\n",
      "\tat org.apache.spark.util.Utils$.deleteRecursively(Utils.scala:1231)\n",
      "\tat org.apache.spark.storage.DiskBlockManager.$anonfun$doStop$1(DiskBlockManager.scala:368)\n",
      "\tat org.apache.spark.storage.DiskBlockManager.$anonfun$doStop$1$adapted(DiskBlockManager.scala:364)\n",
      "\tat scala.collection.IndexedSeqOptimized.foreach(IndexedSeqOptimized.scala:36)\n",
      "\tat scala.collection.IndexedSeqOptimized.foreach$(IndexedSeqOptimized.scala:33)\n",
      "\tat scala.collection.mutable.ArrayOps$ofRef.foreach(ArrayOps.scala:198)\n",
      "\tat org.apache.spark.storage.DiskBlockManager.doStop(DiskBlockManager.scala:364)\n",
      "\tat org.apache.spark.storage.DiskBlockManager.stop(DiskBlockManager.scala:359)\n",
      "\tat org.apache.spark.storage.BlockManager.stop(BlockManager.scala:2052)\n",
      "\tat org.apache.spark.SparkEnv.stop(SparkEnv.scala:95)\n",
      "\tat org.apache.spark.SparkContext.$anonfun$stop$25(SparkContext.scala:2175)\n",
      "\tat org.apache.spark.util.Utils$.tryLogNonFatalError(Utils.scala:1509)\n",
      "\tat org.apache.spark.SparkContext.stop(SparkContext.scala:2175)\n",
      "\tat org.apache.spark.SparkContext.stop(SparkContext.scala:2081)\n",
      "\tat org.apache.spark.SparkContext.$anonfun$new$31(SparkContext.scala:664)\n",
      "\tat org.apache.spark.util.SparkShutdownHook.run(ShutdownHookManager.scala:214)\n",
      "\tat org.apache.spark.util.SparkShutdownHookManager.$anonfun$runAll$2(ShutdownHookManager.scala:188)\n",
      "\tat scala.runtime.java8.JFunction0$mcV$sp.apply(JFunction0$mcV$sp.java:23)\n",
      "\tat org.apache.spark.util.Utils$.logUncaughtExceptions(Utils.scala:2088)\n",
      "\tat org.apache.spark.util.SparkShutdownHookManager.$anonfun$runAll$1(ShutdownHookManager.scala:188)\n",
      "\tat scala.runtime.java8.JFunction0$mcV$sp.apply(JFunction0$mcV$sp.java:23)\n",
      "\tat scala.util.Try$.apply(Try.scala:213)\n",
      "\tat org.apache.spark.util.SparkShutdownHookManager.runAll(ShutdownHookManager.scala:188)\n",
      "\tat org.apache.spark.util.SparkShutdownHookManager$$anon$2.run(ShutdownHookManager.scala:178)\n",
      "\tat java.base/java.util.concurrent.Executors$RunnableAdapter.call(Executors.java:539)\n",
      "\tat java.base/java.util.concurrent.FutureTask.run(FutureTask.java:264)\n",
      "\tat java.base/java.util.concurrent.ThreadPoolExecutor.runWorker(ThreadPoolExecutor.java:1136)\n",
      "\tat java.base/java.util.concurrent.ThreadPoolExecutor$Worker.run(ThreadPoolExecutor.java:635)\n",
      "\tat java.base/java.lang.Thread.run(Thread.java:833)\n"
     ]
    }
   ],
   "source": [
    "df.describe().show()"
   ]
  },
  {
   "cell_type": "code",
   "execution_count": 122,
   "id": "bf1983e6-3c6f-42b4-892a-d1e6e7a8691f",
   "metadata": {},
   "outputs": [
    {
     "name": "stdout",
     "output_type": "stream",
     "text": [
      "Defaulting to user installation because normal site-packages is not writeable\n",
      "Requirement already satisfied: matplotlib in /usr/lib/python3/dist-packages (3.6.3)\n"
     ]
    }
   ],
   "source": [
    "!pip install matplotlib --break-system-packages\n",
    "!pip install pandas --break-system-packages\n",
    "!pip install numpy --break-system-packages\n",
    "!pip install scikit-learn --break-system-packages"
   ]
  },
  {
   "cell_type": "code",
   "execution_count": 128,
   "id": "f5398e62-2930-4373-9551-fe4a8a250f99",
   "metadata": {},
   "outputs": [
    {
     "data": {
      "image/png": "[encoded data removed]",
      "text/plain": [
       "<Figure size 640x480 with 1 Axes>"
      ]
     },
     "metadata": {},
     "output_type": "display_data"
    }
   ],
   "source": [
    "plt.plot([1, 2, 3, 4])\n",
    "plt.ylabel('some numbers')\n",
    "plt.show()"
   ]
  },
  {
   "cell_type": "code",
   "execution_count": 129,
   "id": "c36bd324-cff8-4e30-b318-c006b34bd90d",
   "metadata": {},
   "outputs": [
    {
     "data": {
      "text/plain": [
       "DataFrame[fecha: date, sum(sum(sum(afluencia))): bigint]"
      ]
     },
     "execution_count": 129,
     "metadata": {},
     "output_type": "execute_result"
    }
   ],
   "source": [
    "afluencia_by_fecha"
   ]
  },
  {
   "cell_type": "code",
   "execution_count": 36,
   "id": "4e1a121d-91cc-447e-bb20-c958e8f16aeb",
   "metadata": {
    "scrolled": true
   },
   "outputs": [
    {
     "data": {
      "text/html": [
       "<div>\n",
       "<style scoped>\n",
       "    .dataframe tbody tr th:only-of-type {\n",
       "        vertical-align: middle;\n",
       "    }\n",
       "\n",
       "    .dataframe tbody tr th {\n",
       "        vertical-align: top;\n",
       "    }\n",
       "\n",
       "    .dataframe thead th {\n",
       "        text-align: right;\n",
       "    }\n",
       "</style>\n",
       "<table border=\"1\" class=\"dataframe\">\n",
       "  <thead>\n",
       "    <tr style=\"text-align: right;\">\n",
       "      <th></th>\n",
       "      <th>afluencia</th>\n",
       "    </tr>\n",
       "    <tr>\n",
       "      <th>dia</th>\n",
       "      <th></th>\n",
       "    </tr>\n",
       "  </thead>\n",
       "  <tbody>\n",
       "    <tr>\n",
       "      <th>2021-01-01</th>\n",
       "      <td>41033642</td>\n",
       "    </tr>\n",
       "    <tr>\n",
       "      <th>2021-02-01</th>\n",
       "      <td>50436321</td>\n",
       "    </tr>\n",
       "    <tr>\n",
       "      <th>2021-03-01</th>\n",
       "      <td>65449779</td>\n",
       "    </tr>\n",
       "    <tr>\n",
       "      <th>2021-04-01</th>\n",
       "      <td>62577359</td>\n",
       "    </tr>\n",
       "    <tr>\n",
       "      <th>2021-05-01</th>\n",
       "      <td>62689975</td>\n",
       "    </tr>\n",
       "    <tr>\n",
       "      <th>2021-06-01</th>\n",
       "      <td>63410819</td>\n",
       "    </tr>\n",
       "    <tr>\n",
       "      <th>2021-07-01</th>\n",
       "      <td>69822069</td>\n",
       "    </tr>\n",
       "    <tr>\n",
       "      <th>2021-08-01</th>\n",
       "      <td>67964499</td>\n",
       "    </tr>\n",
       "    <tr>\n",
       "      <th>2021-09-01</th>\n",
       "      <td>70154247</td>\n",
       "    </tr>\n",
       "    <tr>\n",
       "      <th>2021-10-01</th>\n",
       "      <td>78122952</td>\n",
       "    </tr>\n",
       "    <tr>\n",
       "      <th>2021-11-01</th>\n",
       "      <td>78483883</td>\n",
       "    </tr>\n",
       "    <tr>\n",
       "      <th>2021-12-01</th>\n",
       "      <td>84154004</td>\n",
       "    </tr>\n",
       "    <tr>\n",
       "      <th>2022-01-01</th>\n",
       "      <td>70563670</td>\n",
       "    </tr>\n",
       "    <tr>\n",
       "      <th>2022-02-01</th>\n",
       "      <td>72052555</td>\n",
       "    </tr>\n",
       "    <tr>\n",
       "      <th>2022-03-01</th>\n",
       "      <td>88358374</td>\n",
       "    </tr>\n",
       "    <tr>\n",
       "      <th>2022-04-01</th>\n",
       "      <td>82897274</td>\n",
       "    </tr>\n",
       "    <tr>\n",
       "      <th>2022-05-01</th>\n",
       "      <td>91245641</td>\n",
       "    </tr>\n",
       "    <tr>\n",
       "      <th>2022-06-01</th>\n",
       "      <td>88424030</td>\n",
       "    </tr>\n",
       "    <tr>\n",
       "      <th>2022-07-01</th>\n",
       "      <td>80680662</td>\n",
       "    </tr>\n",
       "    <tr>\n",
       "      <th>2022-08-01</th>\n",
       "      <td>90184617</td>\n",
       "    </tr>\n",
       "    <tr>\n",
       "      <th>2022-09-01</th>\n",
       "      <td>88794502</td>\n",
       "    </tr>\n",
       "    <tr>\n",
       "      <th>2022-10-01</th>\n",
       "      <td>95094480</td>\n",
       "    </tr>\n",
       "    <tr>\n",
       "      <th>2022-11-01</th>\n",
       "      <td>91831197</td>\n",
       "    </tr>\n",
       "    <tr>\n",
       "      <th>2022-12-01</th>\n",
       "      <td>89981293</td>\n",
       "    </tr>\n",
       "    <tr>\n",
       "      <th>2023-01-01</th>\n",
       "      <td>87266174</td>\n",
       "    </tr>\n",
       "    <tr>\n",
       "      <th>2023-02-01</th>\n",
       "      <td>86696037</td>\n",
       "    </tr>\n",
       "    <tr>\n",
       "      <th>2023-03-01</th>\n",
       "      <td>99399033</td>\n",
       "    </tr>\n",
       "    <tr>\n",
       "      <th>2023-04-01</th>\n",
       "      <td>86639757</td>\n",
       "    </tr>\n",
       "    <tr>\n",
       "      <th>2023-05-01</th>\n",
       "      <td>96485575</td>\n",
       "    </tr>\n",
       "  </tbody>\n",
       "</table>\n",
       "</div>"
      ],
      "text/plain": [
       "            afluencia\n",
       "dia                  \n",
       "2021-01-01   41033642\n",
       "2021-02-01   50436321\n",
       "2021-03-01   65449779\n",
       "2021-04-01   62577359\n",
       "2021-05-01   62689975\n",
       "2021-06-01   63410819\n",
       "2021-07-01   69822069\n",
       "2021-08-01   67964499\n",
       "2021-09-01   70154247\n",
       "2021-10-01   78122952\n",
       "2021-11-01   78483883\n",
       "2021-12-01   84154004\n",
       "2022-01-01   70563670\n",
       "2022-02-01   72052555\n",
       "2022-03-01   88358374\n",
       "2022-04-01   82897274\n",
       "2022-05-01   91245641\n",
       "2022-06-01   88424030\n",
       "2022-07-01   80680662\n",
       "2022-08-01   90184617\n",
       "2022-09-01   88794502\n",
       "2022-10-01   95094480\n",
       "2022-11-01   91831197\n",
       "2022-12-01   89981293\n",
       "2023-01-01   87266174\n",
       "2023-02-01   86696037\n",
       "2023-03-01   99399033\n",
       "2023-04-01   86639757\n",
       "2023-05-01   96485575"
      ]
     },
     "execution_count": 36,
     "metadata": {},
     "output_type": "execute_result"
    }
   ],
   "source": [
    "df2 = lineas_df.toPandas()\n",
    "df2.sort_values(by=['fecha'], inplace=True).rename(columns={'sum(afluencia)': 'afluencia'}, inplace=True)\n",
    "df2['dia'] = pd.to_datetime(df2['fecha']).map(lambda dt: dt.replace(day=1))\n",
    "afluencia_by_dia = df2.groupby('dia').sum('afluencia')\n",
    "afluencia_by_dia"
   ]
  },
  {
   "cell_type": "code",
   "execution_count": 48,
   "id": "17423494-7724-48ac-8f07-636dbb47f357",
   "metadata": {},
   "outputs": [
    {
     "data": {
      "text/plain": [
       "Index(['afluencia'], dtype='object')"
      ]
     },
     "execution_count": 48,
     "metadata": {},
     "output_type": "execute_result"
    }
   ],
   "source": [
    "df2.groupby('dia').sum('afluencia').columns"
   ]
  },
  {
   "cell_type": "code",
   "execution_count": 37,
   "id": "63892e0f-a096-4000-8191-e429e7aed54d",
   "metadata": {},
   "outputs": [
    {
     "ename": "KeyError",
     "evalue": "'dia'",
     "output_type": "error",
     "traceback": [
      "\u001b[0;31m---------------------------------------------------------------------------\u001b[0m",
      "\u001b[0;31mKeyError\u001b[0m                                  Traceback (most recent call last)",
      "File \u001b[0;32m~/.local/lib/python3.11/site-packages/pandas/core/indexes/base.py:3653\u001b[0m, in \u001b[0;36mIndex.get_loc\u001b[0;34m(self, key)\u001b[0m\n\u001b[1;32m   3652\u001b[0m \u001b[38;5;28;01mtry\u001b[39;00m:\n\u001b[0;32m-> 3653\u001b[0m     \u001b[38;5;28;01mreturn\u001b[39;00m \u001b[38;5;28;43mself\u001b[39;49m\u001b[38;5;241;43m.\u001b[39;49m\u001b[43m_engine\u001b[49m\u001b[38;5;241;43m.\u001b[39;49m\u001b[43mget_loc\u001b[49m\u001b[43m(\u001b[49m\u001b[43mcasted_key\u001b[49m\u001b[43m)\u001b[49m\n\u001b[1;32m   3654\u001b[0m \u001b[38;5;28;01mexcept\u001b[39;00m \u001b[38;5;167;01mKeyError\u001b[39;00m \u001b[38;5;28;01mas\u001b[39;00m err:\n",
      "File \u001b[0;32m~/.local/lib/python3.11/site-packages/pandas/_libs/index.pyx:147\u001b[0m, in \u001b[0;36mpandas._libs.index.IndexEngine.get_loc\u001b[0;34m()\u001b[0m\n",
      "File \u001b[0;32m~/.local/lib/python3.11/site-packages/pandas/_libs/index.pyx:176\u001b[0m, in \u001b[0;36mpandas._libs.index.IndexEngine.get_loc\u001b[0;34m()\u001b[0m\n",
      "File \u001b[0;32mpandas/_libs/hashtable_class_helper.pxi:7080\u001b[0m, in \u001b[0;36mpandas._libs.hashtable.PyObjectHashTable.get_item\u001b[0;34m()\u001b[0m\n",
      "File \u001b[0;32mpandas/_libs/hashtable_class_helper.pxi:7088\u001b[0m, in \u001b[0;36mpandas._libs.hashtable.PyObjectHashTable.get_item\u001b[0;34m()\u001b[0m\n",
      "\u001b[0;31mKeyError\u001b[0m: 'dia'",
      "\nThe above exception was the direct cause of the following exception:\n",
      "\u001b[0;31mKeyError\u001b[0m                                  Traceback (most recent call last)",
      "Cell \u001b[0;32mIn [37], line 3\u001b[0m\n\u001b[1;32m      1\u001b[0m fig, ax \u001b[38;5;241m=\u001b[39m plt\u001b[38;5;241m.\u001b[39msubplots()\n\u001b[1;32m      2\u001b[0m plt\u001b[38;5;241m.\u001b[39mrcParams[\u001b[38;5;124m'\u001b[39m\u001b[38;5;124mfigure.figsize\u001b[39m\u001b[38;5;124m'\u001b[39m] \u001b[38;5;241m=\u001b[39m [\u001b[38;5;241m40\u001b[39m, \u001b[38;5;241m4\u001b[39m]\n\u001b[0;32m----> 3\u001b[0m d1 \u001b[38;5;241m=\u001b[39m \u001b[43mafluencia_by_dia\u001b[49m\u001b[43m[\u001b[49m\u001b[38;5;124;43m'\u001b[39;49m\u001b[38;5;124;43mdia\u001b[39;49m\u001b[38;5;124;43m'\u001b[39;49m\u001b[43m]\u001b[49m[\u001b[38;5;241m0\u001b[39m:\u001b[38;5;241m200\u001b[39m]\n\u001b[1;32m      4\u001b[0m d2 \u001b[38;5;241m=\u001b[39m afluencia_by_dia[\u001b[38;5;124m'\u001b[39m\u001b[38;5;124mafluencia\u001b[39m\u001b[38;5;124m'\u001b[39m][\u001b[38;5;241m0\u001b[39m:\u001b[38;5;241m200\u001b[39m]\n\u001b[1;32m      5\u001b[0m ax\u001b[38;5;241m.\u001b[39mplot(d1, d2, \u001b[38;5;124m'\u001b[39m\u001b[38;5;124mro\u001b[39m\u001b[38;5;124m'\u001b[39m)\n",
      "File \u001b[0;32m~/.local/lib/python3.11/site-packages/pandas/core/frame.py:3761\u001b[0m, in \u001b[0;36mDataFrame.__getitem__\u001b[0;34m(self, key)\u001b[0m\n\u001b[1;32m   3759\u001b[0m \u001b[38;5;28;01mif\u001b[39;00m \u001b[38;5;28mself\u001b[39m\u001b[38;5;241m.\u001b[39mcolumns\u001b[38;5;241m.\u001b[39mnlevels \u001b[38;5;241m>\u001b[39m \u001b[38;5;241m1\u001b[39m:\n\u001b[1;32m   3760\u001b[0m     \u001b[38;5;28;01mreturn\u001b[39;00m \u001b[38;5;28mself\u001b[39m\u001b[38;5;241m.\u001b[39m_getitem_multilevel(key)\n\u001b[0;32m-> 3761\u001b[0m indexer \u001b[38;5;241m=\u001b[39m \u001b[38;5;28;43mself\u001b[39;49m\u001b[38;5;241;43m.\u001b[39;49m\u001b[43mcolumns\u001b[49m\u001b[38;5;241;43m.\u001b[39;49m\u001b[43mget_loc\u001b[49m\u001b[43m(\u001b[49m\u001b[43mkey\u001b[49m\u001b[43m)\u001b[49m\n\u001b[1;32m   3762\u001b[0m \u001b[38;5;28;01mif\u001b[39;00m is_integer(indexer):\n\u001b[1;32m   3763\u001b[0m     indexer \u001b[38;5;241m=\u001b[39m [indexer]\n",
      "File \u001b[0;32m~/.local/lib/python3.11/site-packages/pandas/core/indexes/base.py:3655\u001b[0m, in \u001b[0;36mIndex.get_loc\u001b[0;34m(self, key)\u001b[0m\n\u001b[1;32m   3653\u001b[0m     \u001b[38;5;28;01mreturn\u001b[39;00m \u001b[38;5;28mself\u001b[39m\u001b[38;5;241m.\u001b[39m_engine\u001b[38;5;241m.\u001b[39mget_loc(casted_key)\n\u001b[1;32m   3654\u001b[0m \u001b[38;5;28;01mexcept\u001b[39;00m \u001b[38;5;167;01mKeyError\u001b[39;00m \u001b[38;5;28;01mas\u001b[39;00m err:\n\u001b[0;32m-> 3655\u001b[0m     \u001b[38;5;28;01mraise\u001b[39;00m \u001b[38;5;167;01mKeyError\u001b[39;00m(key) \u001b[38;5;28;01mfrom\u001b[39;00m \u001b[38;5;21;01merr\u001b[39;00m\n\u001b[1;32m   3656\u001b[0m \u001b[38;5;28;01mexcept\u001b[39;00m \u001b[38;5;167;01mTypeError\u001b[39;00m:\n\u001b[1;32m   3657\u001b[0m     \u001b[38;5;66;03m# If we have a listlike key, _check_indexing_error will raise\u001b[39;00m\n\u001b[1;32m   3658\u001b[0m     \u001b[38;5;66;03m#  InvalidIndexError. Otherwise we fall through and re-raise\u001b[39;00m\n\u001b[1;32m   3659\u001b[0m     \u001b[38;5;66;03m#  the TypeError.\u001b[39;00m\n\u001b[1;32m   3660\u001b[0m     \u001b[38;5;28mself\u001b[39m\u001b[38;5;241m.\u001b[39m_check_indexing_error(key)\n",
      "\u001b[0;31mKeyError\u001b[0m: 'dia'"
     ]
    },
    {
     "data": {
      "image/png": "[encoded data removed]",
      "text/plain": [
       "<Figure size 4000x400 with 1 Axes>"
      ]
     },
     "metadata": {},
     "output_type": "display_data"
    }
   ],
   "source": [
    "fig, ax = plt.subplots()\n",
    "plt.rcParams['figure.figsize'] = [40, 4]\n",
    "d1 = afluencia_by_dia['dia'][0:200]\n",
    "d2 = afluencia_by_dia['afluencia'][0:200]\n",
    "ax.plot(d1, d2, 'ro')\n",
    "plt.axhline(np.mean(d2))\n",
    "plt.axhline(np.max(d2))\n",
    "plt.axhline(np.min(d2))\n",
    "#plt.axhline(np.median(d2))\n",
    "#plt.axhline(stat.mode(d2))\n",
    "\n",
    "ax.format_xdata = mdates.DateFormatter('%Y-%m-%d')\n",
    "plt.xticks(rotation=45)\n",
    "plt.show()"
   ]
  },
  {
   "cell_type": "code",
   "execution_count": 38,
   "id": "a9e27ccd-8a98-4f2a-830a-e481b3327fb5",
   "metadata": {},
   "outputs": [
    {
     "data": {
      "text/plain": [
       "0"
      ]
     },
     "execution_count": 38,
     "metadata": {},
     "output_type": "execute_result"
    }
   ],
   "source": [
    "np.mean(d2)\n",
    "np.max(d2)\n",
    "np.min(d2)\n",
    "np.median(d2)\n",
    "stat.mode(d2)"
   ]
  },
  {
   "cell_type": "code",
   "execution_count": 252,
   "id": "cb0363a0-1415-42eb-b5c7-c93f97aa0555",
   "metadata": {},
   "outputs": [
    {
     "ename": "ValueError",
     "evalue": "setting an array element with a sequence. The requested array has an inhomogeneous shape after 2 dimensions. The detected shape was (29, 2) + inhomogeneous part.",
     "output_type": "error",
     "traceback": [
      "\u001b[0;31m---------------------------------------------------------------------------\u001b[0m",
      "\u001b[0;31mValueError\u001b[0m                                Traceback (most recent call last)",
      "Cell \u001b[0;32mIn [252], line 5\u001b[0m\n\u001b[1;32m      3\u001b[0m d1 \u001b[38;5;241m=\u001b[39m df3[\u001b[38;5;124m'\u001b[39m\u001b[38;5;124mYearMonth\u001b[39m\u001b[38;5;124m'\u001b[39m]\n\u001b[1;32m      4\u001b[0m d2 \u001b[38;5;241m=\u001b[39m df3[\u001b[38;5;124m'\u001b[39m\u001b[38;5;124msum(sum(sum(afluencia)))\u001b[39m\u001b[38;5;124m'\u001b[39m]\n\u001b[0;32m----> 5\u001b[0m \u001b[43max\u001b[49m\u001b[38;5;241;43m.\u001b[39;49m\u001b[43mplot\u001b[49m\u001b[43m(\u001b[49m\u001b[43md1\u001b[49m\u001b[43m,\u001b[49m\u001b[43m \u001b[49m\u001b[43md2\u001b[49m\u001b[43m,\u001b[49m\u001b[43m \u001b[49m\u001b[38;5;124;43m'\u001b[39;49m\u001b[38;5;124;43mro\u001b[39;49m\u001b[38;5;124;43m'\u001b[39;49m\u001b[43m)\u001b[49m\n\u001b[1;32m      6\u001b[0m plt\u001b[38;5;241m.\u001b[39maxhline(np\u001b[38;5;241m.\u001b[39mmean(d3))\n\u001b[1;32m      7\u001b[0m plt\u001b[38;5;241m.\u001b[39maxhline(np\u001b[38;5;241m.\u001b[39mmax(d3))\n",
      "File \u001b[0;32m/usr/lib/python3/dist-packages/matplotlib/axes/_axes.py:1668\u001b[0m, in \u001b[0;36mAxes.plot\u001b[0;34m(self, scalex, scaley, data, *args, **kwargs)\u001b[0m\n\u001b[1;32m   1425\u001b[0m \u001b[38;5;250m\u001b[39m\u001b[38;5;124;03m\"\"\"\u001b[39;00m\n\u001b[1;32m   1426\u001b[0m \u001b[38;5;124;03mPlot y versus x as lines and/or markers.\u001b[39;00m\n\u001b[1;32m   1427\u001b[0m \n\u001b[0;32m   (...)\u001b[0m\n\u001b[1;32m   1665\u001b[0m \u001b[38;5;124;03m(``'green'``) or hex strings (``'#008000'``).\u001b[39;00m\n\u001b[1;32m   1666\u001b[0m \u001b[38;5;124;03m\"\"\"\u001b[39;00m\n\u001b[1;32m   1667\u001b[0m kwargs \u001b[38;5;241m=\u001b[39m cbook\u001b[38;5;241m.\u001b[39mnormalize_kwargs(kwargs, mlines\u001b[38;5;241m.\u001b[39mLine2D)\n\u001b[0;32m-> 1668\u001b[0m lines \u001b[38;5;241m=\u001b[39m [\u001b[38;5;241m*\u001b[39m\u001b[38;5;28mself\u001b[39m\u001b[38;5;241m.\u001b[39m_get_lines(\u001b[38;5;241m*\u001b[39margs, data\u001b[38;5;241m=\u001b[39mdata, \u001b[38;5;241m*\u001b[39m\u001b[38;5;241m*\u001b[39mkwargs)]\n\u001b[1;32m   1669\u001b[0m \u001b[38;5;28;01mfor\u001b[39;00m line \u001b[38;5;129;01min\u001b[39;00m lines:\n\u001b[1;32m   1670\u001b[0m     \u001b[38;5;28mself\u001b[39m\u001b[38;5;241m.\u001b[39madd_line(line)\n",
      "File \u001b[0;32m/usr/lib/python3/dist-packages/matplotlib/axes/_base.py:311\u001b[0m, in \u001b[0;36m_process_plot_var_args.__call__\u001b[0;34m(self, data, *args, **kwargs)\u001b[0m\n\u001b[1;32m    309\u001b[0m     this \u001b[38;5;241m+\u001b[39m\u001b[38;5;241m=\u001b[39m args[\u001b[38;5;241m0\u001b[39m],\n\u001b[1;32m    310\u001b[0m     args \u001b[38;5;241m=\u001b[39m args[\u001b[38;5;241m1\u001b[39m:]\n\u001b[0;32m--> 311\u001b[0m \u001b[38;5;28;01myield from\u001b[39;00m \u001b[38;5;28;43mself\u001b[39;49m\u001b[38;5;241;43m.\u001b[39;49m\u001b[43m_plot_args\u001b[49m\u001b[43m(\u001b[49m\n\u001b[1;32m    312\u001b[0m \u001b[43m    \u001b[49m\u001b[43mthis\u001b[49m\u001b[43m,\u001b[49m\u001b[43m \u001b[49m\u001b[43mkwargs\u001b[49m\u001b[43m,\u001b[49m\u001b[43m \u001b[49m\u001b[43mambiguous_fmt_datakey\u001b[49m\u001b[38;5;241;43m=\u001b[39;49m\u001b[43mambiguous_fmt_datakey\u001b[49m\u001b[43m)\u001b[49m\n",
      "File \u001b[0;32m/usr/lib/python3/dist-packages/matplotlib/axes/_base.py:493\u001b[0m, in \u001b[0;36m_process_plot_var_args._plot_args\u001b[0;34m(self, tup, kwargs, return_kwargs, ambiguous_fmt_datakey)\u001b[0m\n\u001b[1;32m    490\u001b[0m         kw[prop_name] \u001b[38;5;241m=\u001b[39m val\n\u001b[1;32m    492\u001b[0m \u001b[38;5;28;01mif\u001b[39;00m \u001b[38;5;28mlen\u001b[39m(xy) \u001b[38;5;241m==\u001b[39m \u001b[38;5;241m2\u001b[39m:\n\u001b[0;32m--> 493\u001b[0m     x \u001b[38;5;241m=\u001b[39m \u001b[43m_check_1d\u001b[49m\u001b[43m(\u001b[49m\u001b[43mxy\u001b[49m\u001b[43m[\u001b[49m\u001b[38;5;241;43m0\u001b[39;49m\u001b[43m]\u001b[49m\u001b[43m)\u001b[49m\n\u001b[1;32m    494\u001b[0m     y \u001b[38;5;241m=\u001b[39m _check_1d(xy[\u001b[38;5;241m1\u001b[39m])\n\u001b[1;32m    495\u001b[0m \u001b[38;5;28;01melse\u001b[39;00m:\n",
      "File \u001b[0;32m/usr/lib/python3/dist-packages/matplotlib/cbook/__init__.py:1382\u001b[0m, in \u001b[0;36m_check_1d\u001b[0;34m(x)\u001b[0m\n\u001b[1;32m   1376\u001b[0m \u001b[38;5;66;03m# plot requires `shape` and `ndim`.  If passed an\u001b[39;00m\n\u001b[1;32m   1377\u001b[0m \u001b[38;5;66;03m# object that doesn't provide them, then force to numpy array.\u001b[39;00m\n\u001b[1;32m   1378\u001b[0m \u001b[38;5;66;03m# Note this will strip unit information.\u001b[39;00m\n\u001b[1;32m   1379\u001b[0m \u001b[38;5;28;01mif\u001b[39;00m (\u001b[38;5;129;01mnot\u001b[39;00m \u001b[38;5;28mhasattr\u001b[39m(x, \u001b[38;5;124m'\u001b[39m\u001b[38;5;124mshape\u001b[39m\u001b[38;5;124m'\u001b[39m) \u001b[38;5;129;01mor\u001b[39;00m\n\u001b[1;32m   1380\u001b[0m         \u001b[38;5;129;01mnot\u001b[39;00m \u001b[38;5;28mhasattr\u001b[39m(x, \u001b[38;5;124m'\u001b[39m\u001b[38;5;124mndim\u001b[39m\u001b[38;5;124m'\u001b[39m) \u001b[38;5;129;01mor\u001b[39;00m\n\u001b[1;32m   1381\u001b[0m         \u001b[38;5;28mlen\u001b[39m(x\u001b[38;5;241m.\u001b[39mshape) \u001b[38;5;241m<\u001b[39m \u001b[38;5;241m1\u001b[39m):\n\u001b[0;32m-> 1382\u001b[0m     \u001b[38;5;28;01mreturn\u001b[39;00m \u001b[43mnp\u001b[49m\u001b[38;5;241;43m.\u001b[39;49m\u001b[43matleast_1d\u001b[49m\u001b[43m(\u001b[49m\u001b[43mx\u001b[49m\u001b[43m)\u001b[49m\n\u001b[1;32m   1383\u001b[0m \u001b[38;5;28;01melse\u001b[39;00m:\n\u001b[1;32m   1384\u001b[0m     \u001b[38;5;28;01mreturn\u001b[39;00m x\n",
      "File \u001b[0;32m<__array_function__ internals>:200\u001b[0m, in \u001b[0;36matleast_1d\u001b[0;34m(*args, **kwargs)\u001b[0m\n",
      "File \u001b[0;32m/usr/lib/python3/dist-packages/numpy/core/shape_base.py:65\u001b[0m, in \u001b[0;36matleast_1d\u001b[0;34m(*arys)\u001b[0m\n\u001b[1;32m     63\u001b[0m res \u001b[38;5;241m=\u001b[39m []\n\u001b[1;32m     64\u001b[0m \u001b[38;5;28;01mfor\u001b[39;00m ary \u001b[38;5;129;01min\u001b[39;00m arys:\n\u001b[0;32m---> 65\u001b[0m     ary \u001b[38;5;241m=\u001b[39m \u001b[43masanyarray\u001b[49m\u001b[43m(\u001b[49m\u001b[43mary\u001b[49m\u001b[43m)\u001b[49m\n\u001b[1;32m     66\u001b[0m     \u001b[38;5;28;01mif\u001b[39;00m ary\u001b[38;5;241m.\u001b[39mndim \u001b[38;5;241m==\u001b[39m \u001b[38;5;241m0\u001b[39m:\n\u001b[1;32m     67\u001b[0m         result \u001b[38;5;241m=\u001b[39m ary\u001b[38;5;241m.\u001b[39mreshape(\u001b[38;5;241m1\u001b[39m)\n",
      "\u001b[0;31mValueError\u001b[0m: setting an array element with a sequence. The requested array has an inhomogeneous shape after 2 dimensions. The detected shape was (29, 2) + inhomogeneous part."
     ]
    },
    {
     "data": {
      "image/png": "[encoded data removed]",
      "text/plain": [
       "<Figure size 1000x400 with 1 Axes>"
      ]
     },
     "metadata": {},
     "output_type": "display_data"
    }
   ],
   "source": [
    "fig, ax = plt.subplots()\n",
    "plt.rcParams['figure.figsize'] = [10, 4]\n",
    "d1 = df3['YearMonth']\n",
    "d2 = df3['sum(sum(sum(afluencia)))']\n",
    "ax.plot(d1, d2, 'ro')\n",
    "plt.axhline(np.mean(d3))\n",
    "plt.axhline(np.max(d3))\n",
    "plt.axhline(np.min(d3))\n",
    "#plt.axhline(np.median(d2))\n",
    "#plt.axhline(stat.mode(d2))\n",
    "\n",
    "ax.format_xdata = mdates.DateFormatter('%Y-%m-%d')\n",
    "plt.xticks(rotation=45)\n",
    "plt.show()"
   ]
  },
  {
   "cell_type": "code",
   "execution_count": null,
   "id": "9aaeb752-45a9-4c54-b494-58383e6a96aa",
   "metadata": {},
   "outputs": [],
   "source": []
  }
 ],
 "metadata": {
  "kernelspec": {
   "display_name": "Python 3 (ipykernel)",
   "language": "python",
   "name": "python3"
  },
  "language_info": {
   "codemirror_mode": {
    "name": "ipython",
    "version": 3
   },
   "file_extension": ".py",
   "mimetype": "text/x-python",
   "name": "python",
   "nbconvert_exporter": "python",
   "pygments_lexer": "ipython3",
   "version": "3.11.2"
  }
 },
 "nbformat": 4,
 "nbformat_minor": 5
}
