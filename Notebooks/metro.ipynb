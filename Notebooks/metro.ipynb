{
 "cells": [
  {
   "cell_type": "code",
   "execution_count": 3,
   "id": "8ede9b9e-cf5a-419a-bfc2-661ceb225b58",
   "metadata": {},
   "outputs": [],
   "source": [
    "import pyspark\n",
    "from pyspark.sql.functions import *\n",
    "from pyspark.sql.types import *\n",
    "from pyspark.sql import SparkSession\n",
    "\n",
    "import matplotlib.dates as mdates\n",
    "import matplotlib.pyplot as plt\n",
    "import statistics as stat\n",
    "import pandas as pd"
   ]
  },
  {
   "cell_type": "code",
   "execution_count": 4,
   "id": "4c9bba64-0fae-44ca-aba5-bfcf2f17c780",
   "metadata": {},
   "outputs": [
    {
     "name": "stderr",
     "output_type": "stream",
     "text": [
      "23/07/10 23:51:01 WARN Utils: Your hostname, debian resolves to a loopback address: 127.0.1.1; using 192.168.0.143 instead (on interface eno1)\n",
      "23/07/10 23:51:01 WARN Utils: Set SPARK_LOCAL_IP if you need to bind to another address\n",
      "Setting default log level to \"WARN\".\n",
      "To adjust logging level use sc.setLogLevel(newLevel). For SparkR, use setLogLevel(newLevel).\n",
      "23/07/10 23:51:04 WARN NativeCodeLoader: Unable to load native-hadoop library for your platform... using builtin-java classes where applicable\n"
     ]
    }
   ],
   "source": [
    "spark = SparkSession.builder.appName(\"appSpark\").getOrCreate()"
   ]
  },
  {
   "cell_type": "code",
   "execution_count": 5,
   "id": "2c6f0faa-9db4-4aee-97ce-838490e565db",
   "metadata": {},
   "outputs": [],
   "source": [
    "def read_csv(path):\n",
    "    return spark.read.format(\"csv\")\\\n",
    "            .option(\"inferSchema\", True)\\\n",
    "            .option(\"header\", True)\\\n",
    "            .option(\"sep\", \",\")\\\n",
    "            .load(path)\n",
    "\n",
    "def get_afluencia_by_dia(df):\n",
    "    return df.select(col('fecha').substr(1, 7).alias('fecha'), 'afluencia')\\\n",
    "        .groupBy('fecha')\\\n",
    "        .agg(sum('afluencia').alias('afluencia'))\\\n",
    "        .orderBy('fecha')"
   ]
  },
  {
   "cell_type": "markdown",
   "id": "c6ad28eb-f46f-49c8-9e6e-a9cf5a4eda4b",
   "metadata": {},
   "source": [
    "## Afluencia"
   ]
  },
  {
   "cell_type": "code",
   "execution_count": 7,
   "id": "4afa6950-460c-4553-85b7-960b82cf95a8",
   "metadata": {},
   "outputs": [],
   "source": [
    "file = \"./csv/afluenciastc_desglosado_05_2023.csv\""
   ]
  },
  {
   "cell_type": "code",
   "execution_count": 15,
   "id": "28878f2a-63c2-4c35-ae87-2829c4c26400",
   "metadata": {},
   "outputs": [
    {
     "name": "stderr",
     "output_type": "stream",
     "text": [
      "                                                                                \r"
     ]
    },
    {
     "name": "stdout",
     "output_type": "stream",
     "text": [
      "+----------+-----+----+-------+----------------------+---------+---------+\n",
      "|fecha     |mes  |anio|linea  |estacion              |tipo_pago|afluencia|\n",
      "+----------+-----+----+-------+----------------------+---------+---------+\n",
      "|2021-01-01|Enero|2021|Linea 1|Balbuena              |Boleto   |1848     |\n",
      "|2021-01-01|Enero|2021|Linea 1|Balbuena              |Prepago  |790      |\n",
      "|2021-01-01|Enero|2021|Linea 1|Balbuena              |Gratuidad|325      |\n",
      "|2021-01-01|Enero|2021|Linea 1|Balderas              |Boleto   |1103     |\n",
      "|2021-01-01|Enero|2021|Linea 1|Balderas              |Prepago  |922      |\n",
      "|2021-01-01|Enero|2021|Linea 1|Balderas              |Gratuidad|651      |\n",
      "|2021-01-01|Enero|2021|Linea 1|Boulevard Puerto Aéreo|Boleto   |4890     |\n",
      "|2021-01-01|Enero|2021|Linea 1|Boulevard Puerto Aéreo|Prepago  |2797     |\n",
      "|2021-01-01|Enero|2021|Linea 1|Boulevard Puerto Aéreo|Gratuidad|1053     |\n",
      "|2021-01-01|Enero|2021|Linea 1|Candelaria            |Boleto   |0        |\n",
      "+----------+-----+----+-------+----------------------+---------+---------+\n",
      "only showing top 10 rows\n",
      "\n"
     ]
    }
   ],
   "source": [
    "afluencia_df = read_csv(file)\n",
    "afluencia_df.show(10, False)"
   ]
  },
  {
   "cell_type": "code",
   "execution_count": 16,
   "id": "077d0963-39d2-4331-887c-c4d6b065f429",
   "metadata": {},
   "outputs": [
    {
     "name": "stderr",
     "output_type": "stream",
     "text": [
      "[Stage 38:===========================================>              (3 + 1) / 4]\r"
     ]
    },
    {
     "name": "stdout",
     "output_type": "stream",
     "text": [
      "+-------+---------+\n",
      "|fecha  |afluencia|\n",
      "+-------+---------+\n",
      "|2021-01|41033642 |\n",
      "|2021-02|50436321 |\n",
      "|2021-03|65449779 |\n",
      "|2021-04|62577359 |\n",
      "|2021-05|62689975 |\n",
      "|2021-06|63410819 |\n",
      "|2021-07|69822069 |\n",
      "|2021-08|67964499 |\n",
      "|2021-09|70154247 |\n",
      "|2021-10|78122952 |\n",
      "+-------+---------+\n",
      "only showing top 10 rows\n",
      "\n"
     ]
    },
    {
     "name": "stderr",
     "output_type": "stream",
     "text": [
      "                                                                                \r"
     ]
    }
   ],
   "source": [
    "afluencia_df = get_afluencia_by_dia(afluencia_df)\n",
    "afluencia_df.show(10, False)"
   ]
  },
  {
   "cell_type": "code",
   "execution_count": 17,
   "id": "fad42b78-211d-42fa-8361-91a259b3af6a",
   "metadata": {},
   "outputs": [
    {
     "name": "stderr",
     "output_type": "stream",
     "text": [
      "                                                                                \r"
     ]
    },
    {
     "name": "stdout",
     "output_type": "stream",
     "text": [
      "+-------+-------+--------------------+\n",
      "|summary|  fecha|           afluencia|\n",
      "+-------+-------+--------------------+\n",
      "|  count|     29|                  29|\n",
      "|   mean|   null| 7.865153172413793E7|\n",
      "| stddev|   null|1.4223847415756151E7|\n",
      "|    min|2021-01|            41033642|\n",
      "|    max|2023-05|            99399033|\n",
      "+-------+-------+--------------------+\n",
      "\n"
     ]
    }
   ],
   "source": [
    "afluencia_df.describe().show()"
   ]
  },
  {
   "cell_type": "code",
   "execution_count": 22,
   "id": "0fdd490e-45e3-47a5-adce-5a93f16dd6de",
   "metadata": {},
   "outputs": [
    {
     "ename": "AttributeError",
     "evalue": "'DataFrame' object has no attribute 'toPandas'",
     "output_type": "error",
     "traceback": [
      "\u001b[0;31m---------------------------------------------------------------------------\u001b[0m",
      "\u001b[0;31mAttributeError\u001b[0m                            Traceback (most recent call last)",
      "Cell \u001b[0;32mIn [22], line 1\u001b[0m\n\u001b[0;32m----> 1\u001b[0m afluencia_df \u001b[38;5;241m=\u001b[39m \u001b[43mafluencia_df\u001b[49m\u001b[38;5;241;43m.\u001b[39;49m\u001b[43mtoPandas\u001b[49m()\n\u001b[1;32m      2\u001b[0m afluencia_df\n",
      "File \u001b[0;32m~/.local/lib/python3.11/site-packages/pandas/core/generic.py:5989\u001b[0m, in \u001b[0;36mNDFrame.__getattr__\u001b[0;34m(self, name)\u001b[0m\n\u001b[1;32m   5982\u001b[0m \u001b[38;5;28;01mif\u001b[39;00m (\n\u001b[1;32m   5983\u001b[0m     name \u001b[38;5;129;01mnot\u001b[39;00m \u001b[38;5;129;01min\u001b[39;00m \u001b[38;5;28mself\u001b[39m\u001b[38;5;241m.\u001b[39m_internal_names_set\n\u001b[1;32m   5984\u001b[0m     \u001b[38;5;129;01mand\u001b[39;00m name \u001b[38;5;129;01mnot\u001b[39;00m \u001b[38;5;129;01min\u001b[39;00m \u001b[38;5;28mself\u001b[39m\u001b[38;5;241m.\u001b[39m_metadata\n\u001b[1;32m   5985\u001b[0m     \u001b[38;5;129;01mand\u001b[39;00m name \u001b[38;5;129;01mnot\u001b[39;00m \u001b[38;5;129;01min\u001b[39;00m \u001b[38;5;28mself\u001b[39m\u001b[38;5;241m.\u001b[39m_accessors\n\u001b[1;32m   5986\u001b[0m     \u001b[38;5;129;01mand\u001b[39;00m \u001b[38;5;28mself\u001b[39m\u001b[38;5;241m.\u001b[39m_info_axis\u001b[38;5;241m.\u001b[39m_can_hold_identifiers_and_holds_name(name)\n\u001b[1;32m   5987\u001b[0m ):\n\u001b[1;32m   5988\u001b[0m     \u001b[38;5;28;01mreturn\u001b[39;00m \u001b[38;5;28mself\u001b[39m[name]\n\u001b[0;32m-> 5989\u001b[0m \u001b[38;5;28;01mreturn\u001b[39;00m \u001b[38;5;28;43mobject\u001b[39;49m\u001b[38;5;241;43m.\u001b[39;49m\u001b[38;5;21;43m__getattribute__\u001b[39;49m\u001b[43m(\u001b[49m\u001b[38;5;28;43mself\u001b[39;49m\u001b[43m,\u001b[49m\u001b[43m \u001b[49m\u001b[43mname\u001b[49m\u001b[43m)\u001b[49m\n",
      "\u001b[0;31mAttributeError\u001b[0m: 'DataFrame' object has no attribute 'toPandas'"
     ]
    }
   ],
   "source": [
    "afluencia_df = afluencia_df.toPandas()\n",
    "afluencia_df"
   ]
  },
  {
   "cell_type": "code",
   "execution_count": 21,
   "id": "62d1db0d-b245-46fe-9c52-b0aa3bb7e3ce",
   "metadata": {},
   "outputs": [
    {
     "data": {
      "text/html": [
       "<div>\n",
       "<style scoped>\n",
       "    .dataframe tbody tr th:only-of-type {\n",
       "        vertical-align: middle;\n",
       "    }\n",
       "\n",
       "    .dataframe tbody tr th {\n",
       "        vertical-align: top;\n",
       "    }\n",
       "\n",
       "    .dataframe thead th {\n",
       "        text-align: right;\n",
       "    }\n",
       "</style>\n",
       "<table border=\"1\" class=\"dataframe\">\n",
       "  <thead>\n",
       "    <tr style=\"text-align: right;\">\n",
       "      <th></th>\n",
       "      <th>afluencia</th>\n",
       "    </tr>\n",
       "  </thead>\n",
       "  <tbody>\n",
       "    <tr>\n",
       "      <th>count</th>\n",
       "      <td>2.900000e+01</td>\n",
       "    </tr>\n",
       "    <tr>\n",
       "      <th>mean</th>\n",
       "      <td>7.865153e+07</td>\n",
       "    </tr>\n",
       "    <tr>\n",
       "      <th>std</th>\n",
       "      <td>1.422385e+07</td>\n",
       "    </tr>\n",
       "    <tr>\n",
       "      <th>min</th>\n",
       "      <td>4.103364e+07</td>\n",
       "    </tr>\n",
       "    <tr>\n",
       "      <th>25%</th>\n",
       "      <td>6.982207e+07</td>\n",
       "    </tr>\n",
       "    <tr>\n",
       "      <th>50%</th>\n",
       "      <td>8.289727e+07</td>\n",
       "    </tr>\n",
       "    <tr>\n",
       "      <th>75%</th>\n",
       "      <td>8.879450e+07</td>\n",
       "    </tr>\n",
       "    <tr>\n",
       "      <th>max</th>\n",
       "      <td>9.939903e+07</td>\n",
       "    </tr>\n",
       "  </tbody>\n",
       "</table>\n",
       "</div>"
      ],
      "text/plain": [
       "          afluencia\n",
       "count  2.900000e+01\n",
       "mean   7.865153e+07\n",
       "std    1.422385e+07\n",
       "min    4.103364e+07\n",
       "25%    6.982207e+07\n",
       "50%    8.289727e+07\n",
       "75%    8.879450e+07\n",
       "max    9.939903e+07"
      ]
     },
     "execution_count": 21,
     "metadata": {},
     "output_type": "execute_result"
    }
   ],
   "source": [
    "afluencia_df.describe()"
   ]
  },
  {
   "cell_type": "code",
   "execution_count": 40,
   "id": "87dd8236-279f-46a8-a147-c841dd9b16c5",
   "metadata": {},
   "outputs": [],
   "source": [
    "fechas = afluencia_df['fecha']\n",
    "afluencias = afluencia_df['afluencia']\n",
    "\n",
    "mean = np.mean(afluencias)\n",
    "max = np.max(afluencias)\n",
    "min = np.min(afluencias)\n",
    "mean_feachas = fechas[len(afluencia_df)//2]"
   ]
  },
  {
   "cell_type": "code",
   "execution_count": null,
   "id": "de57685f-ee5b-4365-9c65-63b585b30223",
   "metadata": {},
   "outputs": [],
   "source": []
  },
  {
   "cell_type": "code",
   "execution_count": 57,
   "id": "17b87b41-4fdc-4d69-95c0-c74906df6608",
   "metadata": {},
   "outputs": [
    {
     "data": {
      "text/html": [
       "<div>\n",
       "<style scoped>\n",
       "    .dataframe tbody tr th:only-of-type {\n",
       "        vertical-align: middle;\n",
       "    }\n",
       "\n",
       "    .dataframe tbody tr th {\n",
       "        vertical-align: top;\n",
       "    }\n",
       "\n",
       "    .dataframe thead th {\n",
       "        text-align: right;\n",
       "    }\n",
       "</style>\n",
       "<table border=\"1\" class=\"dataframe\">\n",
       "  <thead>\n",
       "    <tr style=\"text-align: right;\">\n",
       "      <th></th>\n",
       "      <th>fecha</th>\n",
       "      <th>afluencia</th>\n",
       "      <th>varianza_afluencia</th>\n",
       "    </tr>\n",
       "  </thead>\n",
       "  <tbody>\n",
       "    <tr>\n",
       "      <th>0</th>\n",
       "      <td>2021-01</td>\n",
       "      <td>41033642</td>\n",
       "      <td>3.761789e+07</td>\n",
       "    </tr>\n",
       "    <tr>\n",
       "      <th>1</th>\n",
       "      <td>2021-02</td>\n",
       "      <td>50436321</td>\n",
       "      <td>2.821521e+07</td>\n",
       "    </tr>\n",
       "    <tr>\n",
       "      <th>2</th>\n",
       "      <td>2021-03</td>\n",
       "      <td>65449779</td>\n",
       "      <td>1.320175e+07</td>\n",
       "    </tr>\n",
       "    <tr>\n",
       "      <th>3</th>\n",
       "      <td>2021-04</td>\n",
       "      <td>62577359</td>\n",
       "      <td>1.607417e+07</td>\n",
       "    </tr>\n",
       "    <tr>\n",
       "      <th>4</th>\n",
       "      <td>2021-05</td>\n",
       "      <td>62689975</td>\n",
       "      <td>1.596156e+07</td>\n",
       "    </tr>\n",
       "    <tr>\n",
       "      <th>5</th>\n",
       "      <td>2021-06</td>\n",
       "      <td>63410819</td>\n",
       "      <td>1.524071e+07</td>\n",
       "    </tr>\n",
       "    <tr>\n",
       "      <th>6</th>\n",
       "      <td>2021-07</td>\n",
       "      <td>69822069</td>\n",
       "      <td>8.829463e+06</td>\n",
       "    </tr>\n",
       "    <tr>\n",
       "      <th>7</th>\n",
       "      <td>2021-08</td>\n",
       "      <td>67964499</td>\n",
       "      <td>1.068703e+07</td>\n",
       "    </tr>\n",
       "    <tr>\n",
       "      <th>8</th>\n",
       "      <td>2021-09</td>\n",
       "      <td>70154247</td>\n",
       "      <td>8.497285e+06</td>\n",
       "    </tr>\n",
       "    <tr>\n",
       "      <th>9</th>\n",
       "      <td>2021-10</td>\n",
       "      <td>78122952</td>\n",
       "      <td>5.285797e+05</td>\n",
       "    </tr>\n",
       "    <tr>\n",
       "      <th>10</th>\n",
       "      <td>2021-11</td>\n",
       "      <td>78483883</td>\n",
       "      <td>1.676487e+05</td>\n",
       "    </tr>\n",
       "    <tr>\n",
       "      <th>11</th>\n",
       "      <td>2021-12</td>\n",
       "      <td>84154004</td>\n",
       "      <td>-5.502472e+06</td>\n",
       "    </tr>\n",
       "    <tr>\n",
       "      <th>12</th>\n",
       "      <td>2022-01</td>\n",
       "      <td>70563670</td>\n",
       "      <td>8.087862e+06</td>\n",
       "    </tr>\n",
       "    <tr>\n",
       "      <th>13</th>\n",
       "      <td>2022-02</td>\n",
       "      <td>72052555</td>\n",
       "      <td>6.598977e+06</td>\n",
       "    </tr>\n",
       "    <tr>\n",
       "      <th>14</th>\n",
       "      <td>2022-03</td>\n",
       "      <td>88358374</td>\n",
       "      <td>-9.706842e+06</td>\n",
       "    </tr>\n",
       "    <tr>\n",
       "      <th>15</th>\n",
       "      <td>2022-04</td>\n",
       "      <td>82897274</td>\n",
       "      <td>-4.245742e+06</td>\n",
       "    </tr>\n",
       "    <tr>\n",
       "      <th>16</th>\n",
       "      <td>2022-05</td>\n",
       "      <td>91245641</td>\n",
       "      <td>-1.259411e+07</td>\n",
       "    </tr>\n",
       "    <tr>\n",
       "      <th>17</th>\n",
       "      <td>2022-06</td>\n",
       "      <td>88424030</td>\n",
       "      <td>-9.772498e+06</td>\n",
       "    </tr>\n",
       "    <tr>\n",
       "      <th>18</th>\n",
       "      <td>2022-07</td>\n",
       "      <td>80680662</td>\n",
       "      <td>-2.029130e+06</td>\n",
       "    </tr>\n",
       "    <tr>\n",
       "      <th>19</th>\n",
       "      <td>2022-08</td>\n",
       "      <td>90184617</td>\n",
       "      <td>-1.153309e+07</td>\n",
       "    </tr>\n",
       "    <tr>\n",
       "      <th>20</th>\n",
       "      <td>2022-09</td>\n",
       "      <td>88794502</td>\n",
       "      <td>-1.014297e+07</td>\n",
       "    </tr>\n",
       "    <tr>\n",
       "      <th>21</th>\n",
       "      <td>2022-10</td>\n",
       "      <td>95094480</td>\n",
       "      <td>-1.644295e+07</td>\n",
       "    </tr>\n",
       "    <tr>\n",
       "      <th>22</th>\n",
       "      <td>2022-11</td>\n",
       "      <td>91831197</td>\n",
       "      <td>-1.317967e+07</td>\n",
       "    </tr>\n",
       "    <tr>\n",
       "      <th>23</th>\n",
       "      <td>2022-12</td>\n",
       "      <td>89981293</td>\n",
       "      <td>-1.132976e+07</td>\n",
       "    </tr>\n",
       "    <tr>\n",
       "      <th>24</th>\n",
       "      <td>2023-01</td>\n",
       "      <td>87266174</td>\n",
       "      <td>-8.614642e+06</td>\n",
       "    </tr>\n",
       "    <tr>\n",
       "      <th>25</th>\n",
       "      <td>2023-02</td>\n",
       "      <td>86696037</td>\n",
       "      <td>-8.044505e+06</td>\n",
       "    </tr>\n",
       "    <tr>\n",
       "      <th>26</th>\n",
       "      <td>2023-03</td>\n",
       "      <td>99399033</td>\n",
       "      <td>-2.074750e+07</td>\n",
       "    </tr>\n",
       "    <tr>\n",
       "      <th>27</th>\n",
       "      <td>2023-04</td>\n",
       "      <td>86639757</td>\n",
       "      <td>-7.988225e+06</td>\n",
       "    </tr>\n",
       "    <tr>\n",
       "      <th>28</th>\n",
       "      <td>2023-05</td>\n",
       "      <td>96485575</td>\n",
       "      <td>-1.783404e+07</td>\n",
       "    </tr>\n",
       "  </tbody>\n",
       "</table>\n",
       "</div>"
      ],
      "text/plain": [
       "      fecha  afluencia  varianza_afluencia\n",
       "0   2021-01   41033642        3.761789e+07\n",
       "1   2021-02   50436321        2.821521e+07\n",
       "2   2021-03   65449779        1.320175e+07\n",
       "3   2021-04   62577359        1.607417e+07\n",
       "4   2021-05   62689975        1.596156e+07\n",
       "5   2021-06   63410819        1.524071e+07\n",
       "6   2021-07   69822069        8.829463e+06\n",
       "7   2021-08   67964499        1.068703e+07\n",
       "8   2021-09   70154247        8.497285e+06\n",
       "9   2021-10   78122952        5.285797e+05\n",
       "10  2021-11   78483883        1.676487e+05\n",
       "11  2021-12   84154004       -5.502472e+06\n",
       "12  2022-01   70563670        8.087862e+06\n",
       "13  2022-02   72052555        6.598977e+06\n",
       "14  2022-03   88358374       -9.706842e+06\n",
       "15  2022-04   82897274       -4.245742e+06\n",
       "16  2022-05   91245641       -1.259411e+07\n",
       "17  2022-06   88424030       -9.772498e+06\n",
       "18  2022-07   80680662       -2.029130e+06\n",
       "19  2022-08   90184617       -1.153309e+07\n",
       "20  2022-09   88794502       -1.014297e+07\n",
       "21  2022-10   95094480       -1.644295e+07\n",
       "22  2022-11   91831197       -1.317967e+07\n",
       "23  2022-12   89981293       -1.132976e+07\n",
       "24  2023-01   87266174       -8.614642e+06\n",
       "25  2023-02   86696037       -8.044505e+06\n",
       "26  2023-03   99399033       -2.074750e+07\n",
       "27  2023-04   86639757       -7.988225e+06\n",
       "28  2023-05   96485575       -1.783404e+07"
      ]
     },
     "execution_count": 57,
     "metadata": {},
     "output_type": "execute_result"
    }
   ],
   "source": [
    "def varianza(val):\n",
    "    return mean - val\n",
    "    \n",
    "afluencia_df['varianza_afluencia'] = afluencia_df['afluencia'].apply(varianza)\n",
    "afluencia_df"
   ]
  },
  {
   "cell_type": "code",
   "execution_count": 50,
   "id": "b67e73fb-d4b0-4671-bd9e-2ad361cc2724",
   "metadata": {},
   "outputs": [
    {
     "data": {
      "image/png": "[encoded data removed]",
      "text/plain": [
       "<Figure size 1000x400 with 1 Axes>"
      ]
     },
     "metadata": {},
     "output_type": "display_data"
    }
   ],
   "source": [
    "fig, ax = plt.subplots()\n",
    "plt.rcParams['figure.figsize'] = [10, 4]\n",
    "\n",
    "ax.plot(fechas, afluencias, 'ro')\n",
    "\n",
    "#plt.axhline(max)\n",
    "plt.axhline(mean)\n",
    "#plt.axhline(min)\n",
    "plt.vlines(int(len(afluencias)/2),0, max)\n",
    "#plt.axhline(np.median(d2))\n",
    "#plt.axhline(stat.mode(d2))\n",
    "\n",
    "ax.format_xdata = mdates.DateFormatter('%Y-%m-%d')\n",
    "plt.xticks(rotation=45)\n",
    "plt.show()"
   ]
  },
  {
   "cell_type": "code",
   "execution_count": null,
   "id": "f97cc504-138e-473b-9d4e-1a2705f8eff4",
   "metadata": {},
   "outputs": [],
   "source": []
  }
 ],
 "metadata": {
  "kernelspec": {
   "display_name": "Python 3 (ipykernel)",
   "language": "python",
   "name": "python3"
  },
  "language_info": {
   "codemirror_mode": {
    "name": "ipython",
    "version": 3
   },
   "file_extension": ".py",
   "mimetype": "text/x-python",
   "name": "python",
   "nbconvert_exporter": "python",
   "pygments_lexer": "ipython3",
   "version": "3.11.2"
  }
 },
 "nbformat": 4,
 "nbformat_minor": 5
}
