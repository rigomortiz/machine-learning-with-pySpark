{
 "cells": [
  {
   "cell_type": "code",
   "execution_count": 1,
   "id": "10c6c895-a8ba-47e6-9a71-9245ad9d86df",
   "metadata": {},
   "outputs": [],
   "source": [
    "import pyspark\n",
    "from pyspark.sql.functions import *\n",
    "from pyspark.sql.types import *\n",
    "from pyspark.sql import SparkSession\n",
    "\n",
    "import matplotlib.dates as mdates\n",
    "import matplotlib.pyplot as plt\n",
    "import statistics as stat\n",
    "import pandas as pd"
   ]
  },
  {
   "cell_type": "code",
   "execution_count": 2,
   "id": "44b9b4fd-a05b-4601-a4e4-30ab0434b12a",
   "metadata": {},
   "outputs": [
    {
     "name": "stderr",
     "output_type": "stream",
     "text": [
      "23/07/12 20:21:28 WARN Utils: Your hostname, debian resolves to a loopback address: 127.0.1.1; using 192.168.0.143 instead (on interface eno1)\n",
      "23/07/12 20:21:28 WARN Utils: Set SPARK_LOCAL_IP if you need to bind to another address\n",
      "Setting default log level to \"WARN\".\n",
      "To adjust logging level use sc.setLogLevel(newLevel). For SparkR, use setLogLevel(newLevel).\n",
      "23/07/12 20:21:33 WARN NativeCodeLoader: Unable to load native-hadoop library for your platform... using builtin-java classes where applicable\n"
     ]
    }
   ],
   "source": [
    "spark = SparkSession.builder.appName(\"appSpark\").getOrCreate()"
   ]
  },
  {
   "cell_type": "code",
   "execution_count": 3,
   "id": "511eb5eb-f4d8-41af-bc82-f17f1c8a589d",
   "metadata": {},
   "outputs": [],
   "source": [
    "def read_csv(path):\n",
    "    return spark.read.format(\"csv\")\\\n",
    "            .option(\"inferSchema\", True)\\\n",
    "            .option(\"header\", True)\\\n",
    "            .option(\"sep\", \",\")\\\n",
    "            .load(path)"
   ]
  },
  {
   "cell_type": "code",
   "execution_count": 4,
   "id": "53317462-4aca-4ce1-8775-b4a89987a546",
   "metadata": {},
   "outputs": [],
   "source": [
    "file = \"./csv/ile_2019_2021.csv\""
   ]
  },
  {
   "cell_type": "code",
   "execution_count": 157,
   "id": "a088754b-f45c-4588-a4c4-ecf7e8417380",
   "metadata": {},
   "outputs": [
    {
     "name": "stderr",
     "output_type": "stream",
     "text": [
      "                                                                                \r"
     ]
    }
   ],
   "source": [
    "ile_df = read_csv(file)\n",
    "#ile_df.show(10, False)"
   ]
  },
  {
   "cell_type": "code",
   "execution_count": 6,
   "id": "1e9eee15-5325-40ce-b624-a7f2d74fecf8",
   "metadata": {
    "collapsed": true,
    "jupyter": {
     "outputs_hidden": true
    }
   },
   "outputs": [
    {
     "name": "stdout",
     "output_type": "stream",
     "text": [
      "root\n",
      " |-- anio: integer (nullable = true)\n",
      " |-- mes: string (nullable = true)\n",
      " |-- fecha_ingreso: date (nullable = true)\n",
      " |-- referida: string (nullable = true)\n",
      " |-- estado_civil: string (nullable = true)\n",
      " |-- edad: integer (nullable = true)\n",
      " |-- institucion_derechohab: string (nullable = true)\n",
      " |-- nivel_edu: string (nullable = true)\n",
      " |-- ocupacion: string (nullable = true)\n",
      " |-- religion: string (nullable = true)\n",
      " |-- parentesco: string (nullable = true)\n",
      " |-- entidad: string (nullable = true)\n",
      " |-- alcaldia: string (nullable = true)\n",
      " |-- municipio: string (nullable = true)\n",
      " |-- edad_primera_menstruacion: string (nullable = true)\n",
      " |-- edad_inicio_vida_sexual: string (nullable = true)\n",
      " |-- fecha_ultima_menstruacion: string (nullable = true)\n",
      " |-- semanas_embarazo: string (nullable = true)\n",
      " |-- numero_hijos: string (nullable = true)\n",
      " |-- numero_embarazos: string (nullable = true)\n",
      " |-- numero_abortos: string (nullable = true)\n",
      " |-- numero_partos: string (nullable = true)\n",
      " |-- numero_cesareas: string (nullable = true)\n",
      " |-- numero_iles: string (nullable = true)\n",
      " |-- recibio_consejeria: string (nullable = true)\n",
      " |-- uso_anticonceptivo: string (nullable = true)\n",
      " |-- fecha_primera_valoracion: string (nullable = true)\n",
      " |-- numero_consultas: string (nullable = true)\n",
      " |-- motivos_interrupcion: string (nullable = true)\n",
      " |-- fecha_ingreso_hosp: string (nullable = true)\n",
      " |-- fecha_egreso_hosp: string (nullable = true)\n",
      " |-- desc_servicio: string (nullable = true)\n",
      " |-- semanas_gestacion_usg: integer (nullable = true)\n",
      " |-- dias_gestacion_usg: string (nullable = true)\n",
      " |-- firma_consentimiento: string (nullable = true)\n",
      " |-- se_complica: string (nullable = true)\n",
      " |-- con_dolor: string (nullable = true)\n",
      " |-- analgesico: string (nullable = true)\n",
      " |-- anticonceptivo_post: string (nullable = true)\n",
      " |-- fecha_cierre: string (nullable = true)\n",
      " |-- resultado_ile: string (nullable = true)\n",
      " |-- procedimiento_ile: string (nullable = true)\n",
      "\n"
     ]
    }
   ],
   "source": [
    "ile_df.printSchema()"
   ]
  },
  {
   "cell_type": "code",
   "execution_count": 158,
   "id": "67893280-ac42-49be-9e2a-cc69aee0ca66",
   "metadata": {},
   "outputs": [],
   "source": [
    "ile_df = ile_df.groupby(\"edad\").count().orderBy(col(\"edad\"))"
   ]
  },
  {
   "cell_type": "code",
   "execution_count": 159,
   "id": "b425cb7e-8fb8-43f6-9437-3ecf9733242f",
   "metadata": {},
   "outputs": [
    {
     "name": "stderr",
     "output_type": "stream",
     "text": [
      "                                                                                \r"
     ]
    }
   ],
   "source": [
    "ile_df = ile_df.toPandas()"
   ]
  },
  {
   "cell_type": "code",
   "execution_count": 160,
   "id": "9c52a1ab-376c-433a-9d49-b7a7b27e719c",
   "metadata": {},
   "outputs": [
    {
     "data": {
      "text/html": [
       "<div>\n",
       "<style scoped>\n",
       "    .dataframe tbody tr th:only-of-type {\n",
       "        vertical-align: middle;\n",
       "    }\n",
       "\n",
       "    .dataframe tbody tr th {\n",
       "        vertical-align: top;\n",
       "    }\n",
       "\n",
       "    .dataframe thead th {\n",
       "        text-align: right;\n",
       "    }\n",
       "</style>\n",
       "<table border=\"1\" class=\"dataframe\">\n",
       "  <thead>\n",
       "    <tr style=\"text-align: right;\">\n",
       "      <th></th>\n",
       "      <th>edad</th>\n",
       "      <th>count</th>\n",
       "    </tr>\n",
       "  </thead>\n",
       "  <tbody>\n",
       "    <tr>\n",
       "      <th>0</th>\n",
       "      <td>11</td>\n",
       "      <td>1</td>\n",
       "    </tr>\n",
       "    <tr>\n",
       "      <th>1</th>\n",
       "      <td>12</td>\n",
       "      <td>7</td>\n",
       "    </tr>\n",
       "    <tr>\n",
       "      <th>2</th>\n",
       "      <td>13</td>\n",
       "      <td>46</td>\n",
       "    </tr>\n",
       "    <tr>\n",
       "      <th>3</th>\n",
       "      <td>14</td>\n",
       "      <td>147</td>\n",
       "    </tr>\n",
       "    <tr>\n",
       "      <th>4</th>\n",
       "      <td>15</td>\n",
       "      <td>285</td>\n",
       "    </tr>\n",
       "    <tr>\n",
       "      <th>5</th>\n",
       "      <td>16</td>\n",
       "      <td>485</td>\n",
       "    </tr>\n",
       "    <tr>\n",
       "      <th>6</th>\n",
       "      <td>17</td>\n",
       "      <td>649</td>\n",
       "    </tr>\n",
       "    <tr>\n",
       "      <th>7</th>\n",
       "      <td>18</td>\n",
       "      <td>1424</td>\n",
       "    </tr>\n",
       "    <tr>\n",
       "      <th>8</th>\n",
       "      <td>19</td>\n",
       "      <td>2088</td>\n",
       "    </tr>\n",
       "    <tr>\n",
       "      <th>9</th>\n",
       "      <td>20</td>\n",
       "      <td>2504</td>\n",
       "    </tr>\n",
       "    <tr>\n",
       "      <th>10</th>\n",
       "      <td>21</td>\n",
       "      <td>2641</td>\n",
       "    </tr>\n",
       "    <tr>\n",
       "      <th>11</th>\n",
       "      <td>22</td>\n",
       "      <td>2651</td>\n",
       "    </tr>\n",
       "    <tr>\n",
       "      <th>12</th>\n",
       "      <td>23</td>\n",
       "      <td>2761</td>\n",
       "    </tr>\n",
       "    <tr>\n",
       "      <th>13</th>\n",
       "      <td>24</td>\n",
       "      <td>2581</td>\n",
       "    </tr>\n",
       "    <tr>\n",
       "      <th>14</th>\n",
       "      <td>25</td>\n",
       "      <td>2436</td>\n",
       "    </tr>\n",
       "    <tr>\n",
       "      <th>15</th>\n",
       "      <td>26</td>\n",
       "      <td>2222</td>\n",
       "    </tr>\n",
       "    <tr>\n",
       "      <th>16</th>\n",
       "      <td>27</td>\n",
       "      <td>2051</td>\n",
       "    </tr>\n",
       "    <tr>\n",
       "      <th>17</th>\n",
       "      <td>28</td>\n",
       "      <td>1863</td>\n",
       "    </tr>\n",
       "    <tr>\n",
       "      <th>18</th>\n",
       "      <td>29</td>\n",
       "      <td>1603</td>\n",
       "    </tr>\n",
       "    <tr>\n",
       "      <th>19</th>\n",
       "      <td>30</td>\n",
       "      <td>1453</td>\n",
       "    </tr>\n",
       "    <tr>\n",
       "      <th>20</th>\n",
       "      <td>31</td>\n",
       "      <td>1252</td>\n",
       "    </tr>\n",
       "    <tr>\n",
       "      <th>21</th>\n",
       "      <td>32</td>\n",
       "      <td>1203</td>\n",
       "    </tr>\n",
       "    <tr>\n",
       "      <th>22</th>\n",
       "      <td>33</td>\n",
       "      <td>1072</td>\n",
       "    </tr>\n",
       "    <tr>\n",
       "      <th>23</th>\n",
       "      <td>34</td>\n",
       "      <td>935</td>\n",
       "    </tr>\n",
       "    <tr>\n",
       "      <th>24</th>\n",
       "      <td>35</td>\n",
       "      <td>806</td>\n",
       "    </tr>\n",
       "    <tr>\n",
       "      <th>25</th>\n",
       "      <td>36</td>\n",
       "      <td>713</td>\n",
       "    </tr>\n",
       "    <tr>\n",
       "      <th>26</th>\n",
       "      <td>37</td>\n",
       "      <td>656</td>\n",
       "    </tr>\n",
       "    <tr>\n",
       "      <th>27</th>\n",
       "      <td>38</td>\n",
       "      <td>559</td>\n",
       "    </tr>\n",
       "    <tr>\n",
       "      <th>28</th>\n",
       "      <td>39</td>\n",
       "      <td>437</td>\n",
       "    </tr>\n",
       "    <tr>\n",
       "      <th>29</th>\n",
       "      <td>40</td>\n",
       "      <td>378</td>\n",
       "    </tr>\n",
       "    <tr>\n",
       "      <th>30</th>\n",
       "      <td>41</td>\n",
       "      <td>247</td>\n",
       "    </tr>\n",
       "    <tr>\n",
       "      <th>31</th>\n",
       "      <td>42</td>\n",
       "      <td>208</td>\n",
       "    </tr>\n",
       "    <tr>\n",
       "      <th>32</th>\n",
       "      <td>43</td>\n",
       "      <td>149</td>\n",
       "    </tr>\n",
       "    <tr>\n",
       "      <th>33</th>\n",
       "      <td>44</td>\n",
       "      <td>82</td>\n",
       "    </tr>\n",
       "    <tr>\n",
       "      <th>34</th>\n",
       "      <td>45</td>\n",
       "      <td>39</td>\n",
       "    </tr>\n",
       "    <tr>\n",
       "      <th>35</th>\n",
       "      <td>46</td>\n",
       "      <td>34</td>\n",
       "    </tr>\n",
       "    <tr>\n",
       "      <th>36</th>\n",
       "      <td>47</td>\n",
       "      <td>4</td>\n",
       "    </tr>\n",
       "    <tr>\n",
       "      <th>37</th>\n",
       "      <td>48</td>\n",
       "      <td>7</td>\n",
       "    </tr>\n",
       "    <tr>\n",
       "      <th>38</th>\n",
       "      <td>49</td>\n",
       "      <td>3</td>\n",
       "    </tr>\n",
       "    <tr>\n",
       "      <th>39</th>\n",
       "      <td>50</td>\n",
       "      <td>2</td>\n",
       "    </tr>\n",
       "    <tr>\n",
       "      <th>40</th>\n",
       "      <td>52</td>\n",
       "      <td>1</td>\n",
       "    </tr>\n",
       "    <tr>\n",
       "      <th>41</th>\n",
       "      <td>53</td>\n",
       "      <td>2</td>\n",
       "    </tr>\n",
       "    <tr>\n",
       "      <th>42</th>\n",
       "      <td>56</td>\n",
       "      <td>1</td>\n",
       "    </tr>\n",
       "  </tbody>\n",
       "</table>\n",
       "</div>"
      ],
      "text/plain": [
       "    edad  count\n",
       "0     11      1\n",
       "1     12      7\n",
       "2     13     46\n",
       "3     14    147\n",
       "4     15    285\n",
       "5     16    485\n",
       "6     17    649\n",
       "7     18   1424\n",
       "8     19   2088\n",
       "9     20   2504\n",
       "10    21   2641\n",
       "11    22   2651\n",
       "12    23   2761\n",
       "13    24   2581\n",
       "14    25   2436\n",
       "15    26   2222\n",
       "16    27   2051\n",
       "17    28   1863\n",
       "18    29   1603\n",
       "19    30   1453\n",
       "20    31   1252\n",
       "21    32   1203\n",
       "22    33   1072\n",
       "23    34    935\n",
       "24    35    806\n",
       "25    36    713\n",
       "26    37    656\n",
       "27    38    559\n",
       "28    39    437\n",
       "29    40    378\n",
       "30    41    247\n",
       "31    42    208\n",
       "32    43    149\n",
       "33    44     82\n",
       "34    45     39\n",
       "35    46     34\n",
       "36    47      4\n",
       "37    48      7\n",
       "38    49      3\n",
       "39    50      2\n",
       "40    52      1\n",
       "41    53      2\n",
       "42    56      1"
      ]
     },
     "execution_count": 160,
     "metadata": {},
     "output_type": "execute_result"
    }
   ],
   "source": [
    "ile_df"
   ]
  },
  {
   "cell_type": "code",
   "execution_count": 25,
   "id": "04d2275f-3664-4ea9-9736-1b0e166809d8",
   "metadata": {},
   "outputs": [
    {
     "data": {
      "text/html": [
       "<div>\n",
       "<style scoped>\n",
       "    .dataframe tbody tr th:only-of-type {\n",
       "        vertical-align: middle;\n",
       "    }\n",
       "\n",
       "    .dataframe tbody tr th {\n",
       "        vertical-align: top;\n",
       "    }\n",
       "\n",
       "    .dataframe thead th {\n",
       "        text-align: right;\n",
       "    }\n",
       "</style>\n",
       "<table border=\"1\" class=\"dataframe\">\n",
       "  <thead>\n",
       "    <tr style=\"text-align: right;\">\n",
       "      <th></th>\n",
       "      <th>edad</th>\n",
       "      <th>count</th>\n",
       "    </tr>\n",
       "  </thead>\n",
       "  <tbody>\n",
       "    <tr>\n",
       "      <th>count</th>\n",
       "      <td>43.000000</td>\n",
       "      <td>43.000000</td>\n",
       "    </tr>\n",
       "    <tr>\n",
       "      <th>mean</th>\n",
       "      <td>32.116279</td>\n",
       "      <td>899.720930</td>\n",
       "    </tr>\n",
       "    <tr>\n",
       "      <th>std</th>\n",
       "      <td>12.758208</td>\n",
       "      <td>945.367737</td>\n",
       "    </tr>\n",
       "    <tr>\n",
       "      <th>min</th>\n",
       "      <td>11.000000</td>\n",
       "      <td>1.000000</td>\n",
       "    </tr>\n",
       "    <tr>\n",
       "      <th>25%</th>\n",
       "      <td>21.500000</td>\n",
       "      <td>42.500000</td>\n",
       "    </tr>\n",
       "    <tr>\n",
       "      <th>50%</th>\n",
       "      <td>32.000000</td>\n",
       "      <td>559.000000</td>\n",
       "    </tr>\n",
       "    <tr>\n",
       "      <th>75%</th>\n",
       "      <td>42.500000</td>\n",
       "      <td>1528.000000</td>\n",
       "    </tr>\n",
       "    <tr>\n",
       "      <th>max</th>\n",
       "      <td>56.000000</td>\n",
       "      <td>2761.000000</td>\n",
       "    </tr>\n",
       "  </tbody>\n",
       "</table>\n",
       "</div>"
      ],
      "text/plain": [
       "            edad        count\n",
       "count  43.000000    43.000000\n",
       "mean   32.116279   899.720930\n",
       "std    12.758208   945.367737\n",
       "min    11.000000     1.000000\n",
       "25%    21.500000    42.500000\n",
       "50%    32.000000   559.000000\n",
       "75%    42.500000  1528.000000\n",
       "max    56.000000  2761.000000"
      ]
     },
     "execution_count": 25,
     "metadata": {},
     "output_type": "execute_result"
    }
   ],
   "source": [
    "ile_df.describe()"
   ]
  },
  {
   "cell_type": "code",
   "execution_count": 174,
   "id": "9434d1e6-e7e0-4c69-b370-03590c349ccc",
   "metadata": {},
   "outputs": [],
   "source": [
    "ile_df = pd.DataFrame({'edad': [20, 30, 40, 50], 'count': [5,10,15,22]})"
   ]
  },
  {
   "cell_type": "code",
   "execution_count": 175,
   "id": "e4b9a36f-4e38-438e-a681-3bf4dd9c0f72",
   "metadata": {},
   "outputs": [],
   "source": [
    "edad = ile_df['edad']\n",
    "count = ile_df['count']"
   ]
  },
  {
   "cell_type": "code",
   "execution_count": 176,
   "id": "10636b08-aa03-48e8-a2e7-5a16d5ad09e1",
   "metadata": {},
   "outputs": [],
   "source": [
    "mean_edad = np.average(edad)\n",
    "mean_count = np.average(count)\n",
    "max_count = np.max(count)\n",
    "min_count = np.min(count)"
   ]
  },
  {
   "cell_type": "code",
   "execution_count": 177,
   "id": "96557114-d608-4852-8738-75e8eec9f9b9",
   "metadata": {},
   "outputs": [
    {
     "data": {
      "image/png": "[encoded data removed]",
      "text/plain": [
       "<Figure size 1000x400 with 1 Axes>"
      ]
     },
     "metadata": {},
     "output_type": "display_data"
    }
   ],
   "source": [
    "fig, ax = plt.subplots()\n",
    "plt.rcParams['figure.figsize'] = [10, 4]\n",
    "\n",
    "ax.plot(edad, count, 'ro')\n",
    "\n",
    "#plt.axhline(max)\n",
    "plt.axhline(mean_count)\n",
    "#plt.axhline(min)\n",
    "plt.vlines(mean_edad,0, max_count)\n",
    "#plt.axhline(np.median(d2))\n",
    "#plt.axhline(stat.mode(d2))\n",
    "\n",
    "ax.format_xdata = mdates.DateFormatter('%Y-%m-%d')\n",
    "plt.xticks(rotation=45)\n",
    "plt.show()"
   ]
  },
  {
   "cell_type": "code",
   "execution_count": 184,
   "id": "d50e035b-2bdd-41c5-a894-29339c156590",
   "metadata": {},
   "outputs": [],
   "source": [
    "def varianza_edad(edad):\n",
    "    return edad - mean_edad\n",
    "def varianza_count(count):\n",
    "    return count - mean_count\n",
    "def covarianza(varianza_edad, count):\n",
    "    return varianza_edad*count\n",
    "def varianza_edad_cuadrada(varianza_edad):\n",
    "    return varianza_edad**2\n",
    "def predicted(b0, b1, edad):\n",
    "    return B0 + B1 * edad\n",
    "def diff_error(value, predicted):\n",
    "    return predicted - value"
   ]
  },
  {
   "cell_type": "code",
   "execution_count": 179,
   "id": "3e38ba92-c6ad-4749-9b63-2b377d8c4fb7",
   "metadata": {},
   "outputs": [
    {
     "data": {
      "text/html": [
       "<div>\n",
       "<style scoped>\n",
       "    .dataframe tbody tr th:only-of-type {\n",
       "        vertical-align: middle;\n",
       "    }\n",
       "\n",
       "    .dataframe tbody tr th {\n",
       "        vertical-align: top;\n",
       "    }\n",
       "\n",
       "    .dataframe thead th {\n",
       "        text-align: right;\n",
       "    }\n",
       "</style>\n",
       "<table border=\"1\" class=\"dataframe\">\n",
       "  <thead>\n",
       "    <tr style=\"text-align: right;\">\n",
       "      <th></th>\n",
       "      <th>edad</th>\n",
       "      <th>count</th>\n",
       "      <th>varianza_edad</th>\n",
       "      <th>varianza_count</th>\n",
       "      <th>covarianza</th>\n",
       "      <th>varianza_edad_cuadrada</th>\n",
       "    </tr>\n",
       "  </thead>\n",
       "  <tbody>\n",
       "    <tr>\n",
       "      <th>0</th>\n",
       "      <td>20</td>\n",
       "      <td>5</td>\n",
       "      <td>-15.0</td>\n",
       "      <td>-8.0</td>\n",
       "      <td>120.0</td>\n",
       "      <td>225.0</td>\n",
       "    </tr>\n",
       "    <tr>\n",
       "      <th>1</th>\n",
       "      <td>30</td>\n",
       "      <td>10</td>\n",
       "      <td>-5.0</td>\n",
       "      <td>-3.0</td>\n",
       "      <td>15.0</td>\n",
       "      <td>25.0</td>\n",
       "    </tr>\n",
       "    <tr>\n",
       "      <th>2</th>\n",
       "      <td>40</td>\n",
       "      <td>15</td>\n",
       "      <td>5.0</td>\n",
       "      <td>2.0</td>\n",
       "      <td>10.0</td>\n",
       "      <td>25.0</td>\n",
       "    </tr>\n",
       "    <tr>\n",
       "      <th>3</th>\n",
       "      <td>50</td>\n",
       "      <td>22</td>\n",
       "      <td>15.0</td>\n",
       "      <td>9.0</td>\n",
       "      <td>135.0</td>\n",
       "      <td>225.0</td>\n",
       "    </tr>\n",
       "  </tbody>\n",
       "</table>\n",
       "</div>"
      ],
      "text/plain": [
       "   edad  count  varianza_edad  varianza_count  covarianza  \\\n",
       "0    20      5          -15.0            -8.0       120.0   \n",
       "1    30     10           -5.0            -3.0        15.0   \n",
       "2    40     15            5.0             2.0        10.0   \n",
       "3    50     22           15.0             9.0       135.0   \n",
       "\n",
       "   varianza_edad_cuadrada  \n",
       "0                   225.0  \n",
       "1                    25.0  \n",
       "2                    25.0  \n",
       "3                   225.0  "
      ]
     },
     "execution_count": 179,
     "metadata": {},
     "output_type": "execute_result"
    }
   ],
   "source": [
    "ile_df['varianza_edad'] = ile_df['edad'].apply(varianza_edad)\n",
    "ile_df['varianza_count'] = ile_df['count'].apply(varianza_count)\n",
    "ile_df['covarianza'] = ile_df.apply(lambda e: covarianza(e['varianza_edad'], e['varianza_count']), axis=1)\n",
    "ile_df['varianza_edad_cuadrada'] = ile_df.apply(lambda e: varianza_edad_cuadrada(e['varianza_edad']), axis=1)\n",
    "\n",
    "ile_df"
   ]
  },
  {
   "cell_type": "code",
   "execution_count": 180,
   "id": "fe0f5cb5-aeab-40f3-87d8-9f904e9a9fea",
   "metadata": {},
   "outputs": [],
   "source": [
    "sum_covarianza = np.sum(ile_df['covarianza'])\n",
    "sum_varianza_edad_cuadrada = np.sum(ile_df['varianza_edad_cuadrada'])\n",
    "\n",
    "B1 = sum_covarianza / sum_varianza_edad_cuadrada\n",
    "B0 = mean_count - (B1*mean_edad)\n",
    "y = B0 + B1 * (20)"
   ]
  },
  {
   "cell_type": "code",
   "execution_count": 181,
   "id": "4972332c-8117-4771-a11d-448b4bed31ee",
   "metadata": {},
   "outputs": [
    {
     "name": "stdout",
     "output_type": "stream",
     "text": [
      "4.6 0.56 -6.600000000000001\n"
     ]
    }
   ],
   "source": [
    "print(y, B1, B0)"
   ]
  },
  {
   "cell_type": "code",
   "execution_count": 187,
   "id": "9a02782b-38d9-44f2-891e-8395059578df",
   "metadata": {},
   "outputs": [
    {
     "data": {
      "text/html": [
       "<div>\n",
       "<style scoped>\n",
       "    .dataframe tbody tr th:only-of-type {\n",
       "        vertical-align: middle;\n",
       "    }\n",
       "\n",
       "    .dataframe tbody tr th {\n",
       "        vertical-align: top;\n",
       "    }\n",
       "\n",
       "    .dataframe thead th {\n",
       "        text-align: right;\n",
       "    }\n",
       "</style>\n",
       "<table border=\"1\" class=\"dataframe\">\n",
       "  <thead>\n",
       "    <tr style=\"text-align: right;\">\n",
       "      <th></th>\n",
       "      <th>edad</th>\n",
       "      <th>count</th>\n",
       "      <th>varianza_edad</th>\n",
       "      <th>varianza_count</th>\n",
       "      <th>covarianza</th>\n",
       "      <th>varianza_edad_cuadrada</th>\n",
       "      <th>predicted_count</th>\n",
       "    </tr>\n",
       "  </thead>\n",
       "  <tbody>\n",
       "    <tr>\n",
       "      <th>0</th>\n",
       "      <td>20</td>\n",
       "      <td>5</td>\n",
       "      <td>-15.0</td>\n",
       "      <td>-8.0</td>\n",
       "      <td>120.0</td>\n",
       "      <td>225.0</td>\n",
       "      <td>4.6</td>\n",
       "    </tr>\n",
       "    <tr>\n",
       "      <th>1</th>\n",
       "      <td>30</td>\n",
       "      <td>10</td>\n",
       "      <td>-5.0</td>\n",
       "      <td>-3.0</td>\n",
       "      <td>15.0</td>\n",
       "      <td>25.0</td>\n",
       "      <td>10.2</td>\n",
       "    </tr>\n",
       "    <tr>\n",
       "      <th>2</th>\n",
       "      <td>40</td>\n",
       "      <td>15</td>\n",
       "      <td>5.0</td>\n",
       "      <td>2.0</td>\n",
       "      <td>10.0</td>\n",
       "      <td>25.0</td>\n",
       "      <td>15.8</td>\n",
       "    </tr>\n",
       "    <tr>\n",
       "      <th>3</th>\n",
       "      <td>50</td>\n",
       "      <td>22</td>\n",
       "      <td>15.0</td>\n",
       "      <td>9.0</td>\n",
       "      <td>135.0</td>\n",
       "      <td>225.0</td>\n",
       "      <td>21.4</td>\n",
       "    </tr>\n",
       "  </tbody>\n",
       "</table>\n",
       "</div>"
      ],
      "text/plain": [
       "   edad  count  varianza_edad  varianza_count  covarianza  \\\n",
       "0    20      5          -15.0            -8.0       120.0   \n",
       "1    30     10           -5.0            -3.0        15.0   \n",
       "2    40     15            5.0             2.0        10.0   \n",
       "3    50     22           15.0             9.0       135.0   \n",
       "\n",
       "   varianza_edad_cuadrada  predicted_count  \n",
       "0                   225.0              4.6  \n",
       "1                    25.0             10.2  \n",
       "2                    25.0             15.8  \n",
       "3                   225.0             21.4  "
      ]
     },
     "execution_count": 187,
     "metadata": {},
     "output_type": "execute_result"
    }
   ],
   "source": [
    "ile_df"
   ]
  },
  {
   "cell_type": "code",
   "execution_count": 188,
   "id": "fbcc76dd-f196-4257-acbf-ebe3d7398b16",
   "metadata": {},
   "outputs": [],
   "source": [
    "ile_df['predicted_count'] = ile_df.apply(lambda e: predicted(B0, B1, e['edad']), axis=1)\n",
    "ile_df['diff_error'] = ile_df.apply(lambda e: diff_error(e['count'], e['predicted_count']), axis=1)\n",
    "ile_df['square_error'] = ile_df['diff_error'].apply(lambda e: e**2)\n",
    "ile_df['old_square_error'] = ile_df['varianza_count'].apply(lambda e: e**2)"
   ]
  },
  {
   "cell_type": "code",
   "execution_count": 189,
   "id": "7d8943f8-b61d-4998-896f-8cb4bb0f0323",
   "metadata": {},
   "outputs": [
    {
     "data": {
      "text/html": [
       "<div>\n",
       "<style scoped>\n",
       "    .dataframe tbody tr th:only-of-type {\n",
       "        vertical-align: middle;\n",
       "    }\n",
       "\n",
       "    .dataframe tbody tr th {\n",
       "        vertical-align: top;\n",
       "    }\n",
       "\n",
       "    .dataframe thead th {\n",
       "        text-align: right;\n",
       "    }\n",
       "</style>\n",
       "<table border=\"1\" class=\"dataframe\">\n",
       "  <thead>\n",
       "    <tr style=\"text-align: right;\">\n",
       "      <th></th>\n",
       "      <th>edad</th>\n",
       "      <th>count</th>\n",
       "      <th>varianza_edad</th>\n",
       "      <th>varianza_count</th>\n",
       "      <th>covarianza</th>\n",
       "      <th>varianza_edad_cuadrada</th>\n",
       "      <th>predicted_count</th>\n",
       "      <th>diff_error</th>\n",
       "      <th>square_error</th>\n",
       "      <th>old_square_error</th>\n",
       "    </tr>\n",
       "  </thead>\n",
       "  <tbody>\n",
       "    <tr>\n",
       "      <th>0</th>\n",
       "      <td>20</td>\n",
       "      <td>5</td>\n",
       "      <td>-15.0</td>\n",
       "      <td>-8.0</td>\n",
       "      <td>120.0</td>\n",
       "      <td>225.0</td>\n",
       "      <td>4.6</td>\n",
       "      <td>-0.4</td>\n",
       "      <td>0.16</td>\n",
       "      <td>64.0</td>\n",
       "    </tr>\n",
       "    <tr>\n",
       "      <th>1</th>\n",
       "      <td>30</td>\n",
       "      <td>10</td>\n",
       "      <td>-5.0</td>\n",
       "      <td>-3.0</td>\n",
       "      <td>15.0</td>\n",
       "      <td>25.0</td>\n",
       "      <td>10.2</td>\n",
       "      <td>0.2</td>\n",
       "      <td>0.04</td>\n",
       "      <td>9.0</td>\n",
       "    </tr>\n",
       "    <tr>\n",
       "      <th>2</th>\n",
       "      <td>40</td>\n",
       "      <td>15</td>\n",
       "      <td>5.0</td>\n",
       "      <td>2.0</td>\n",
       "      <td>10.0</td>\n",
       "      <td>25.0</td>\n",
       "      <td>15.8</td>\n",
       "      <td>0.8</td>\n",
       "      <td>0.64</td>\n",
       "      <td>4.0</td>\n",
       "    </tr>\n",
       "    <tr>\n",
       "      <th>3</th>\n",
       "      <td>50</td>\n",
       "      <td>22</td>\n",
       "      <td>15.0</td>\n",
       "      <td>9.0</td>\n",
       "      <td>135.0</td>\n",
       "      <td>225.0</td>\n",
       "      <td>21.4</td>\n",
       "      <td>-0.6</td>\n",
       "      <td>0.36</td>\n",
       "      <td>81.0</td>\n",
       "    </tr>\n",
       "  </tbody>\n",
       "</table>\n",
       "</div>"
      ],
      "text/plain": [
       "   edad  count  varianza_edad  varianza_count  covarianza  \\\n",
       "0    20      5          -15.0            -8.0       120.0   \n",
       "1    30     10           -5.0            -3.0        15.0   \n",
       "2    40     15            5.0             2.0        10.0   \n",
       "3    50     22           15.0             9.0       135.0   \n",
       "\n",
       "   varianza_edad_cuadrada  predicted_count  diff_error  square_error  \\\n",
       "0                   225.0              4.6        -0.4          0.16   \n",
       "1                    25.0             10.2         0.2          0.04   \n",
       "2                    25.0             15.8         0.8          0.64   \n",
       "3                   225.0             21.4        -0.6          0.36   \n",
       "\n",
       "   old_square_error  \n",
       "0              64.0  \n",
       "1               9.0  \n",
       "2               4.0  \n",
       "3              81.0  "
      ]
     },
     "execution_count": 189,
     "metadata": {},
     "output_type": "execute_result"
    }
   ],
   "source": [
    "ile_df"
   ]
  },
  {
   "cell_type": "code",
   "execution_count": 209,
   "id": "899991f8-e517-4fb5-8b98-62f9492bf2e3",
   "metadata": {},
   "outputs": [
    {
     "data": {
      "text/plain": [
       "158.0"
      ]
     },
     "execution_count": 209,
     "metadata": {},
     "output_type": "execute_result"
    }
   ],
   "source": [
    "TSS = np.sum(ile_df['old_square_error'])\n",
    "TSS"
   ]
  },
  {
   "cell_type": "code",
   "execution_count": 210,
   "id": "6726d188-98ec-4dfb-ae6d-77326d1db5bb",
   "metadata": {},
   "outputs": [
    {
     "data": {
      "text/plain": [
       "1.1999999999999986"
      ]
     },
     "execution_count": 210,
     "metadata": {},
     "output_type": "execute_result"
    }
   ],
   "source": [
    "SSE = np.sum(ile_df['square_error'])\n",
    "SSE"
   ]
  },
  {
   "cell_type": "code",
   "execution_count": 211,
   "id": "a4856553-976a-40a8-8422-b5d60b4b3996",
   "metadata": {},
   "outputs": [
    {
     "name": "stderr",
     "output_type": "stream",
     "text": [
      "23/07/13 00:42:01 WARN JavaUtils: Attempt to delete using native Unix OS command failed for path = /tmp/blockmgr-24d7ba42-0daf-4757-bb9b-357b380f6266. Falling back to Java IO way\n",
      "java.io.IOException: Failed to delete: /tmp/blockmgr-24d7ba42-0daf-4757-bb9b-357b380f6266\n",
      "\tat org.apache.spark.network.util.JavaUtils.deleteRecursivelyUsingUnixNative(JavaUtils.java:177)\n",
      "\tat org.apache.spark.network.util.JavaUtils.deleteRecursively(JavaUtils.java:113)\n",
      "\tat org.apache.spark.network.util.JavaUtils.deleteRecursively(JavaUtils.java:94)\n",
      "\tat org.apache.spark.util.Utils$.deleteRecursively(Utils.scala:1231)\n",
      "\tat org.apache.spark.storage.DiskBlockManager.$anonfun$doStop$1(DiskBlockManager.scala:368)\n",
      "\tat org.apache.spark.storage.DiskBlockManager.$anonfun$doStop$1$adapted(DiskBlockManager.scala:364)\n",
      "\tat scala.collection.IndexedSeqOptimized.foreach(IndexedSeqOptimized.scala:36)\n",
      "\tat scala.collection.IndexedSeqOptimized.foreach$(IndexedSeqOptimized.scala:33)\n",
      "\tat scala.collection.mutable.ArrayOps$ofRef.foreach(ArrayOps.scala:198)\n",
      "\tat org.apache.spark.storage.DiskBlockManager.doStop(DiskBlockManager.scala:364)\n",
      "\tat org.apache.spark.storage.DiskBlockManager.stop(DiskBlockManager.scala:359)\n",
      "\tat org.apache.spark.storage.BlockManager.stop(BlockManager.scala:2052)\n",
      "\tat org.apache.spark.SparkEnv.stop(SparkEnv.scala:95)\n",
      "\tat org.apache.spark.SparkContext.$anonfun$stop$25(SparkContext.scala:2175)\n",
      "\tat org.apache.spark.util.Utils$.tryLogNonFatalError(Utils.scala:1509)\n",
      "\tat org.apache.spark.SparkContext.stop(SparkContext.scala:2175)\n",
      "\tat org.apache.spark.SparkContext.stop(SparkContext.scala:2081)\n",
      "\tat org.apache.spark.SparkContext.$anonfun$new$31(SparkContext.scala:664)\n",
      "\tat org.apache.spark.util.SparkShutdownHook.run(ShutdownHookManager.scala:214)\n",
      "\tat org.apache.spark.util.SparkShutdownHookManager.$anonfun$runAll$2(ShutdownHookManager.scala:188)\n",
      "\tat scala.runtime.java8.JFunction0$mcV$sp.apply(JFunction0$mcV$sp.java:23)\n",
      "\tat org.apache.spark.util.Utils$.logUncaughtExceptions(Utils.scala:2088)\n",
      "\tat org.apache.spark.util.SparkShutdownHookManager.$anonfun$runAll$1(ShutdownHookManager.scala:188)\n",
      "\tat scala.runtime.java8.JFunction0$mcV$sp.apply(JFunction0$mcV$sp.java:23)\n",
      "\tat scala.util.Try$.apply(Try.scala:213)\n",
      "\tat org.apache.spark.util.SparkShutdownHookManager.runAll(ShutdownHookManager.scala:188)\n",
      "\tat org.apache.spark.util.SparkShutdownHookManager$$anon$2.run(ShutdownHookManager.scala:178)\n",
      "\tat java.base/java.util.concurrent.Executors$RunnableAdapter.call(Executors.java:539)\n",
      "\tat java.base/java.util.concurrent.FutureTask.run(FutureTask.java:264)\n",
      "\tat java.base/java.util.concurrent.ThreadPoolExecutor.runWorker(ThreadPoolExecutor.java:1136)\n",
      "\tat java.base/java.util.concurrent.ThreadPoolExecutor$Worker.run(ThreadPoolExecutor.java:635)\n",
      "\tat java.base/java.lang.Thread.run(Thread.java:833)\n"
     ]
    }
   ],
   "source": [
    "SSR = TSS - SSE"
   ]
  },
  {
   "cell_type": "code",
   "execution_count": 206,
   "id": "47106e9c-239f-4910-a144-8240f124cc24",
   "metadata": {},
   "outputs": [
    {
     "data": {
      "text/plain": [
       "156.8"
      ]
     },
     "execution_count": 206,
     "metadata": {},
     "output_type": "execute_result"
    }
   ],
   "source": [
    "SSR"
   ]
  },
  {
   "cell_type": "code",
   "execution_count": 207,
   "id": "9da4c2f9-edfb-4eb8-bdc1-171726d99160",
   "metadata": {},
   "outputs": [],
   "source": [
    "rsquare_Coefficient_of_determination = SSR / TSS"
   ]
  },
  {
   "cell_type": "code",
   "execution_count": 208,
   "id": "b9e3f9c5-9067-408b-a0b9-737c0787b422",
   "metadata": {},
   "outputs": [
    {
     "data": {
      "text/plain": [
       "0.9924050632911393"
      ]
     },
     "execution_count": 208,
     "metadata": {},
     "output_type": "execute_result"
    }
   ],
   "source": [
    "rsquare_Coefficient_of_determination"
   ]
  },
  {
   "cell_type": "code",
   "execution_count": null,
   "id": "146f0b1a-570e-446a-9079-7b61b5ba4fc7",
   "metadata": {},
   "outputs": [],
   "source": []
  }
 ],
 "metadata": {
  "kernelspec": {
   "display_name": "Python 3 (ipykernel)",
   "language": "python",
   "name": "python3"
  },
  "language_info": {
   "codemirror_mode": {
    "name": "ipython",
    "version": 3
   },
   "file_extension": ".py",
   "mimetype": "text/x-python",
   "name": "python",
   "nbconvert_exporter": "python",
   "pygments_lexer": "ipython3",
   "version": "3.11.2"
  }
 },
 "nbformat": 4,
 "nbformat_minor": 5
}
